{
 "cells": [
  {
   "cell_type": "code",
   "execution_count": 10,
   "id": "db11cf9d",
   "metadata": {},
   "outputs": [
    {
     "data": {
      "text/plain": [
       "<function dotenv.main.load_dotenv(dotenv_path: Union[str, ForwardRef('os.PathLike[str]'), NoneType] = None, stream: Optional[IO[str]] = None, verbose: bool = False, override: bool = False, interpolate: bool = True, encoding: Optional[str] = 'utf-8') -> bool>"
      ]
     },
     "execution_count": 10,
     "metadata": {},
     "output_type": "execute_result"
    }
   ],
   "source": [
    "from langchain_groq import ChatGroq\n",
    "from dotenv import load_dotenv\n",
    "import os\n",
    "from langchain_huggingface import HuggingFaceEmbeddings\n",
    "\n",
    "load_dotenv"
   ]
  },
  {
   "cell_type": "code",
   "execution_count": 11,
   "id": "4d9c5801",
   "metadata": {},
   "outputs": [],
   "source": [
    "from langchain.tools import tool\n",
    "\n",
    "os.environ[\"HUGGING_FACE_TOKEN\"] = os.getenv(\"HUGGING_FACE_TOKEN\")\n",
    "\n",
    "os.environ[\"GROQ_API_KEY\"] = os.getenv(\"GROQ_API_KEY\")"
   ]
  },
  {
   "cell_type": "markdown",
   "id": "77fadd5d",
   "metadata": {},
   "source": [
    "Custom tool"
   ]
  },
  {
   "cell_type": "code",
   "execution_count": 12,
   "id": "1252aac4",
   "metadata": {},
   "outputs": [],
   "source": [
    "@tool\n",
    "def multiply(a:int,b:int)->int:\n",
    "    \"\"\"Multiply two integers and return the result.\"\"\"\n",
    "    return a*b\n",
    "\n",
    "@tool\n",
    "def add(a:int, b:int)->int:\n",
    "    \"\"\"Add two integers and return the result.\"\"\"\n",
    "    return a+b\n",
    "\n",
    "@tool\n",
    "def divide(a:int, b:int)->float:\n",
    "    \"\"\"Divide two integers and return the result.\"\"\"\n",
    "    return a/b"
   ]
  },
  {
   "cell_type": "code",
   "execution_count": 13,
   "id": "f33f3e6b",
   "metadata": {},
   "outputs": [
    {
     "data": {
      "text/plain": [
       "\"iPhone 17 release date: When is the next iPhone coming out? Here's something we do know: The new iPhone lineup is almost always announced in September—usually on a Tuesday in the second week ... All four iPhone 17 models that are coming in 2025 will have Apple's first custom-designed Wi-Fi chip with Wi-Fi 7 support. Wi-Fi 7 is already used in the iPhone 16 models, ... iPhone 17 Series: Launch It has been announced that the iPhone 17 family will come out on either September 11, 12 or 13, 2025, following the usual Apple autumn schedule. Among the phones in the lineup, you'll find the iPhone 17 Air which is more compact and both Pro models are set to receive major updates. iPhone 17 Series: Design The iPhone 17 Air is rumoured to come with an ultra-thin chassis, with early whispers suggesting a thickness of around 6mm, down from the iPhone 16 Pro's more substantial 8.25mm. This reduction in bulk isn't just for aesthetics. Apple appears to be re-engineering the internal layout to accommodate a new battery technology and more efficient ... Major Changes Coming With the iPhone 17 Series. This generation isn't just about incremental upgrades. Apple is introducing significant changes across the board, including the launch of an all-new model: iPhone 17 Air: This new entry is expected to be the thinnest iPhone Apple has ever created, at just 5.5mm thick.\""
      ]
     },
     "execution_count": 13,
     "metadata": {},
     "output_type": "execute_result"
    }
   ],
   "source": [
    "from langchain_community.tools import DuckDuckGoSearchRun\n",
    "\n",
    "search = DuckDuckGoSearchRun()\n",
    "\n",
    "search.invoke(\"When is Iphone 17 is coming\")"
   ]
  },
  {
   "cell_type": "code",
   "execution_count": 14,
   "id": "bd23ff8a",
   "metadata": {},
   "outputs": [],
   "source": [
    "tools = [multiply, add, divide, search]"
   ]
  },
  {
   "cell_type": "code",
   "execution_count": 15,
   "id": "5e4d511c",
   "metadata": {},
   "outputs": [
    {
     "data": {
      "text/plain": [
       "'<think>\\n\\n</think>\\n\\nHello! How can I assist you today? 😊'"
      ]
     },
     "execution_count": 15,
     "metadata": {},
     "output_type": "execute_result"
    }
   ],
   "source": [
    "llm_model = ChatGroq(temperature=0, model=\"deepseek-r1-distill-llama-70b\")\n",
    "\n",
    "#check\n",
    "llm_model.invoke(\"Hello\").content"
   ]
  },
  {
   "cell_type": "code",
   "execution_count": 17,
   "id": "d96355ac",
   "metadata": {},
   "outputs": [],
   "source": [
    "llm_with_tools = llm_model.bind_tools(tools)"
   ]
  },
  {
   "cell_type": "code",
   "execution_count": 18,
   "id": "3a58e915",
   "metadata": {},
   "outputs": [],
   "source": [
    "response = llm_with_tools.invoke(\"What is 2+2\")"
   ]
  },
  {
   "cell_type": "code",
   "execution_count": 19,
   "id": "5af7711f",
   "metadata": {},
   "outputs": [
    {
     "data": {
      "text/plain": [
       "''"
      ]
     },
     "execution_count": 19,
     "metadata": {},
     "output_type": "execute_result"
    }
   ],
   "source": [
    "response.content"
   ]
  },
  {
   "cell_type": "code",
   "execution_count": 20,
   "id": "c2f9694d",
   "metadata": {},
   "outputs": [
    {
     "data": {
      "text/plain": [
       "[{'name': 'add',\n",
       "  'args': {'a': 2, 'b': 2},\n",
       "  'id': 'smjb97ha0',\n",
       "  'type': 'tool_call'}]"
      ]
     },
     "execution_count": 20,
     "metadata": {},
     "output_type": "execute_result"
    }
   ],
   "source": [
    "response.tool_calls"
   ]
  },
  {
   "cell_type": "code",
   "execution_count": 56,
   "id": "77c4827f",
   "metadata": {},
   "outputs": [],
   "source": [
    "from langchain_core.messages import HumanMessage, SystemMessage\n",
    "from langgraph.graph import MessagesState, StateGraph, START, END\n",
    "from langgraph.prebuilt import ToolNode"
   ]
  },
  {
   "cell_type": "code",
   "execution_count": 57,
   "id": "5cb9d4e2",
   "metadata": {},
   "outputs": [],
   "source": [
    "builder = StateGraph(MessagesState)"
   ]
  },
  {
   "cell_type": "code",
   "execution_count": 58,
   "id": "13ca6883",
   "metadata": {},
   "outputs": [],
   "source": [
    "SYSTEM_PROMPT = \"You are a helpful assisstant tasked with using search and performing arithmetic on a set of inputs\"\n",
    "user_query = [\"what is 2+2\"]"
   ]
  },
  {
   "cell_type": "code",
   "execution_count": 59,
   "id": "66bc5bfd",
   "metadata": {},
   "outputs": [],
   "source": [
    "def function_1(state:MessagesState):\n",
    "    user_question = state['messages']\n",
    "    \n",
    "    input_question = [SYSTEM_PROMPT] + user_question\n",
    "    \n",
    "    response = llm_with_tools.invoke(input_question)\n",
    "    \n",
    "    return {\n",
    "        \"messages\": [response]\n",
    "    }"
   ]
  },
  {
   "cell_type": "code",
   "execution_count": 60,
   "id": "b0189d7c",
   "metadata": {},
   "outputs": [
    {
     "data": {
      "text/plain": [
       "<langgraph.graph.state.StateGraph at 0x24decae5450>"
      ]
     },
     "execution_count": 60,
     "metadata": {},
     "output_type": "execute_result"
    }
   ],
   "source": [
    "builder.add_node(\"LLM_decision_maker\", function_1)"
   ]
  },
  {
   "cell_type": "code",
   "execution_count": 61,
   "id": "ada1b371",
   "metadata": {},
   "outputs": [
    {
     "data": {
      "text/plain": [
       "<langgraph.graph.state.StateGraph at 0x24decae5450>"
      ]
     },
     "execution_count": 61,
     "metadata": {},
     "output_type": "execute_result"
    }
   ],
   "source": [
    "builder.add_node(\"tools\", ToolNode(tools))"
   ]
  },
  {
   "cell_type": "code",
   "execution_count": 62,
   "id": "4d17b357",
   "metadata": {},
   "outputs": [
    {
     "data": {
      "text/plain": [
       "<langgraph.graph.state.StateGraph at 0x24decae5450>"
      ]
     },
     "execution_count": 62,
     "metadata": {},
     "output_type": "execute_result"
    }
   ],
   "source": [
    "builder.add_edge(START, \"LLM_decision_maker\")"
   ]
  },
  {
   "cell_type": "code",
   "execution_count": 63,
   "id": "c4fd252c",
   "metadata": {},
   "outputs": [
    {
     "data": {
      "text/plain": [
       "<langgraph.graph.state.StateGraph at 0x24decae5450>"
      ]
     },
     "execution_count": 63,
     "metadata": {},
     "output_type": "execute_result"
    }
   ],
   "source": [
    "from langgraph.prebuilt import tools_condition #inbuilt router function\n",
    "\n",
    "builder.add_conditional_edges(\"LLM_decision_maker\",\n",
    "                              tools_condition\n",
    "                              )"
   ]
  },
  {
   "cell_type": "code",
   "execution_count": 64,
   "id": "2fb4dba2",
   "metadata": {},
   "outputs": [
    {
     "data": {
      "text/plain": [
       "<langgraph.graph.state.StateGraph at 0x24decae5450>"
      ]
     },
     "execution_count": 64,
     "metadata": {},
     "output_type": "execute_result"
    }
   ],
   "source": [
    "builder.add_edge(\"tools\", \"LLM_decision_maker\")"
   ]
  },
  {
   "cell_type": "code",
   "execution_count": 65,
   "id": "09cc7f0f",
   "metadata": {},
   "outputs": [],
   "source": [
    "react_graph = builder.compile()"
   ]
  },
  {
   "cell_type": "code",
   "execution_count": 66,
   "id": "f085bf58",
   "metadata": {},
   "outputs": [
    {
     "data": {
      "image/png": "[encoded data removed]",
      "text/plain": [
       "<IPython.core.display.Image object>"
      ]
     },
     "metadata": {},
     "output_type": "display_data"
    }
   ],
   "source": [
    "from IPython.display import Image, display\n",
    "\n",
    "display(Image(react_graph.get_graph().draw_mermaid_png()))"
   ]
  },
  {
   "cell_type": "code",
   "execution_count": 67,
   "id": "51c24f30",
   "metadata": {},
   "outputs": [],
   "source": [
    "message = [HumanMessage(content=\"What is the 2 times of MS dhoni age\")]"
   ]
  },
  {
   "cell_type": "code",
   "execution_count": 70,
   "id": "3e2f9572",
   "metadata": {},
   "outputs": [],
   "source": [
    "response = react_graph.invoke({\"messages\": message})"
   ]
  },
  {
   "cell_type": "code",
   "execution_count": null,
   "id": "e3c681c5",
   "metadata": {},
   "outputs": [
    {
     "name": "stdout",
     "output_type": "stream",
     "text": [
      "================================\u001b[1m Human Message \u001b[0m=================================\n",
      "\n",
      "What is the 2 times of MS dhoni age\n",
      "==================================\u001b[1m Ai Message \u001b[0m==================================\n",
      "Tool Calls:\n",
      "  duckduckgo_search (a7r2cemja)\n",
      " Call ID: a7r2cemja\n",
      "  Args:\n",
      "    query: MS Dhoni age 2023\n",
      "=================================\u001b[1m Tool Message \u001b[0m=================================\n",
      "Name: duckduckgo_search\n",
      "\n",
      "2023: 41: Captained Chennai Super Kings to fifth IPL victory: 2023: 41: ... At the age of 33, MS Dhoni won his last ICC Tournament as a Captain of the Indian Cricket Team. MS Dhoni played his last ... Learn about MS Dhoni's birthday, date of birth and age as of 2023. Find out how he became a cricket legend and how fans celebrate his contributions to the sport. Cricket News: MS Dhoni marked his 400th T20 match, joining an elite group of Indian cricketers. ... It marks his first full-time return to leadership since the unforgettable 2023 IPL final, where ... MS Dhoni's Age in 2023. As of the year 2023, MS Dhoni's age is 42. Born on 7th July 1981, Dhoni has achieved remarkable success in his cricketing career and continues to be an inspiration for aspiring cricketers around the world. MS Dhoni's Birthday. MS Dhoni was born on 7th July 1981. Cricinformed: MS Dhoni, CSK's 43-year-old six machine. Since 2023, no one has hit sixes more frequently in T20s than Dhoni\n",
      "==================================\u001b[1m Ai Message \u001b[0m==================================\n",
      "Tool Calls:\n",
      "  multiply (7ecw84kmh)\n",
      " Call ID: 7ecw84kmh\n",
      "  Args:\n",
      "    a: 42\n",
      "    b: 2\n",
      "=================================\u001b[1m Tool Message \u001b[0m=================================\n",
      "Name: multiply\n",
      "\n",
      "84\n",
      "==================================\u001b[1m Ai Message \u001b[0m==================================\n",
      "\n",
      "The 2 times of MS Dhoni's age is \\boxed{84}.\n"
     ]
    },
    {
     "ename": "",
     "evalue": "",
     "output_type": "error",
     "traceback": [
      "\u001b[1;31mThe Kernel crashed while executing code in the current cell or a previous cell. \n",
      "\u001b[1;31mPlease review the code in the cell(s) to identify a possible cause of the failure. \n",
      "\u001b[1;31mClick <a href='https://aka.ms/vscodeJupyterKernelCrash'>here</a> for more info. \n",
      "\u001b[1;31mView Jupyter <a href='command:jupyter.viewOutput'>log</a> for further details."
     ]
    }
   ],
   "source": [
    "for message in response[\"messages\"]:\n",
    "    message.pretty_print()"
   ]
  },
  {
   "cell_type": "code",
   "execution_count": null,
   "id": "acea4d10",
   "metadata": {},
   "outputs": [],
   "source": []
  }
 ],
 "metadata": {
  "kernelspec": {
   "display_name": "agenticvenv",
   "language": "python",
   "name": "python3"
  },
  "language_info": {
   "codemirror_mode": {
    "name": "ipython",
    "version": 3
   },
   "file_extension": ".py",
   "mimetype": "text/x-python",
   "name": "python",
   "nbconvert_exporter": "python",
   "pygments_lexer": "ipython3",
   "version": "3.11.11"
  }
 },
 "nbformat": 4,
 "nbformat_minor": 5
}
