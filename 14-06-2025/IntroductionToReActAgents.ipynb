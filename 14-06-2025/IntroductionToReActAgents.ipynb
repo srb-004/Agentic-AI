{
 "cells": [
  {
   "cell_type": "code",
   "execution_count": 1,
   "id": "09ddfad6",
   "metadata": {},
   "outputs": [
    {
     "data": {
      "text/plain": [
       "<function dotenv.main.load_dotenv(dotenv_path: Union[str, ForwardRef('os.PathLike[str]'), NoneType] = None, stream: Optional[IO[str]] = None, verbose: bool = False, override: bool = False, interpolate: bool = True, encoding: Optional[str] = 'utf-8') -> bool>"
      ]
     },
     "execution_count": 1,
     "metadata": {},
     "output_type": "execute_result"
    }
   ],
   "source": [
    "from langchain_groq import ChatGroq\n",
    "from dotenv import load_dotenv\n",
    "import os\n",
    "from langchain_huggingface import HuggingFaceEmbeddings\n",
    "\n",
    "load_dotenv"
   ]
  },
  {
   "cell_type": "code",
   "execution_count": 4,
   "id": "9ba73ced",
   "metadata": {},
   "outputs": [],
   "source": [
    "os.environ[\"HUGGING_FACE_TOKEN\"] = os.getenv(\"HUGGING_FACE_TOKEN\")\n",
    "\n",
    "os.environ[\"GROQ_API_KEY\"] = os.getenv(\"GROQ_API_KEY\")"
   ]
  },
  {
   "cell_type": "code",
   "execution_count": 6,
   "id": "dfa9bb72",
   "metadata": {},
   "outputs": [
    {
     "data": {
      "text/plain": [
       "'<think>\\n\\n</think>\\n\\nHello! How can I assist you today? 😊'"
      ]
     },
     "execution_count": 6,
     "metadata": {},
     "output_type": "execute_result"
    }
   ],
   "source": [
    "llm_model = ChatGroq(temperature=0, model=\"deepseek-r1-distill-llama-70b\")\n",
    "\n",
    "#check\n",
    "llm_model.invoke(\"Hello\").content"
   ]
  },
  {
   "cell_type": "code",
   "execution_count": 54,
   "id": "e16c6f7e",
   "metadata": {},
   "outputs": [],
   "source": [
    "import operator\n",
    "from typing import List\n",
    "from pydantic import BaseModel , Field\n",
    "from langchain_core.tools import tool\n",
    "from langgraph.graph.message import add_messages\n",
    "from langchain.prompts import PromptTemplate\n",
    "from typing import TypedDict, Annotated, Sequence\n",
    "from langchain_core.messages import BaseMessage\n",
    "from langchain_core.output_parsers import StrOutputParser\n",
    "from langchain_core.prompts import ChatPromptTemplate, PromptTemplate\n",
    "from langchain_core.runnables import RunnablePassthrough\n",
    "from langchain_core.messages import HumanMessage, AIMessage\n",
    "from langgraph.graph import StateGraph,MessagesState,START,END\n",
    "\n",
    "from langgraph.prebuilt import ToolNode"
   ]
  },
  {
   "cell_type": "code",
   "execution_count": 23,
   "id": "aacdbb1f",
   "metadata": {},
   "outputs": [],
   "source": [
    "def call_model(state: MessagesState):\n",
    "    \n",
    "    question = state[\"messages\"][-1]\n",
    "    print(f\"The question is : {question}\")\n",
    "    response = llm_model.invoke([question]).content\n",
    "    \n",
    "    return {\"messages\": [response]}"
   ]
  },
  {
   "cell_type": "code",
   "execution_count": 24,
   "id": "37f0d48e",
   "metadata": {},
   "outputs": [],
   "source": [
    "state = {\"messages\": [\"Hi can you give me the capital of Australia?\"]}"
   ]
  },
  {
   "cell_type": "code",
   "execution_count": 25,
   "id": "3d0725b7",
   "metadata": {},
   "outputs": [
    {
     "name": "stdout",
     "output_type": "stream",
     "text": [
      "The question is : Hi can you give me the capital of Australia?\n"
     ]
    },
    {
     "data": {
      "text/plain": [
       "{'messages': ['<think>\\n\\n</think>\\n\\nHi! The capital of Australia is Canberra.']}"
      ]
     },
     "execution_count": 25,
     "metadata": {},
     "output_type": "execute_result"
    }
   ],
   "source": [
    "call_model(state)"
   ]
  },
  {
   "cell_type": "markdown",
   "id": "64039684",
   "metadata": {},
   "source": [
    "Creating workflow"
   ]
  },
  {
   "cell_type": "code",
   "execution_count": 26,
   "id": "0fa9c4d1",
   "metadata": {},
   "outputs": [
    {
     "data": {
      "text/plain": [
       "<langgraph.graph.state.StateGraph at 0x2000da53110>"
      ]
     },
     "execution_count": 26,
     "metadata": {},
     "output_type": "execute_result"
    }
   ],
   "source": [
    "workflow = StateGraph(MessagesState)\n",
    "\n",
    "workflow.add_node(\"mychatbot\", call_model)"
   ]
  },
  {
   "cell_type": "code",
   "execution_count": 27,
   "id": "821052d6",
   "metadata": {},
   "outputs": [
    {
     "data": {
      "text/plain": [
       "<langgraph.graph.state.StateGraph at 0x2000da53110>"
      ]
     },
     "execution_count": 27,
     "metadata": {},
     "output_type": "execute_result"
    }
   ],
   "source": [
    "workflow.add_edge(START, \"mychatbot\")\n",
    "workflow.add_edge(\"mychatbot\", END)"
   ]
  },
  {
   "cell_type": "code",
   "execution_count": 28,
   "id": "481a8583",
   "metadata": {},
   "outputs": [],
   "source": [
    "app = workflow.compile()"
   ]
  },
  {
   "cell_type": "code",
   "execution_count": 29,
   "id": "99fa93a5",
   "metadata": {},
   "outputs": [
    {
     "data": {
      "image/png": "[encoded data removed]",
      "text/plain": [
       "<IPython.core.display.Image object>"
      ]
     },
     "metadata": {},
     "output_type": "display_data"
    }
   ],
   "source": [
    "from IPython.display import Image, display\n",
    "\n",
    "display(Image(app.get_graph().draw_mermaid_png()))"
   ]
  },
  {
   "cell_type": "markdown",
   "id": "2b623b16",
   "metadata": {},
   "source": [
    "In this workflow we can add the tools"
   ]
  },
  {
   "cell_type": "code",
   "execution_count": 30,
   "id": "b2ef4e4a",
   "metadata": {},
   "outputs": [],
   "source": [
    "input = {\"messages\":[\"Name all the european countries and arrnge in ascending based on military power\"]}"
   ]
  },
  {
   "cell_type": "code",
   "execution_count": 31,
   "id": "eb5dd990",
   "metadata": {},
   "outputs": [
    {
     "name": "stdout",
     "output_type": "stream",
     "text": [
      "The question is : content='Name all the european countries and arrnge in ascending based on military power' additional_kwargs={} response_metadata={} id='6dc222d4-faaf-4d84-8010-e0847002c35e'\n"
     ]
    },
    {
     "data": {
      "text/plain": [
       "{'messages': [HumanMessage(content='Name all the european countries and arrnge in ascending based on military power', additional_kwargs={}, response_metadata={}, id='6dc222d4-faaf-4d84-8010-e0847002c35e'),\n",
       "  HumanMessage(content=\"<think>\\nOkay, so I need to list all the European countries and arrange them in ascending order based on military power. Hmm, where do I start? First, I should figure out what counts as a European country. I know some countries are partially in Asia, like Turkey and Russia, but I think they're often considered part of Europe for certain purposes. So I'll include them.\\n\\nNext, I need to define military power. It's not just the number of soldiers, right? It's also about the budget, technology, equipment, and maybe even alliances. I remember reading that the Global Firepower (GFP) rankings are a common source for this kind of data. They consider factors like military expenditure, active personnel, reserves, tanks, aircraft, naval strength, and more.\\n\\nSo, I should probably look up the latest GFP rankings and extract the European countries from there. But wait, I don't have access to the current data, so I'll have to go off what I know up until 2023. I think Russia is usually at the top, followed by the US, but since we're only focusing on Europe, maybe the UK, France, and Germany are up there.\\n\\nLet me list out the European countries first. Starting with the well-known ones: Russia, Germany, UK, France, Italy, Spain, Ukraine, Poland, Romania, Netherlands, Belgium, Greece, Turkey, Sweden, Norway, Denmark, Finland, Portugal, Austria, Switzerland, Czech Republic, Hungary, Bulgaria, Slovakia, Ireland, Croatia, Bosnia and Herzegovina, Serbia, Slovenia, Latvia, Lithuania, Estonia, Cyprus, Malta, Iceland, Albania, North Macedonia, Montenegro, Luxembourg, Andorra, Monaco, San Marino, Liechtenstein, Vatican City.\\n\\nWait, some of these are microstates like Monaco and Vatican City. I'm not sure if they have significant military power. Maybe I should include them but note that their military capabilities are minimal.\\n\\nNow, arranging them by military power. Russia is definitely the strongest in Europe. Then, the UK and France have nuclear capabilities and strong armies. Germany has a large economy and military, so they should be high up. Italy and Spain are next, I think. Then Turkey, which is partly in Asia but considered European for NATO purposes.\\n\\nAfter that, Ukraine has been in the news a lot because of the conflict with Russia, so their military is significant but maybe not as strong as the others. Poland has been increasing its military spending. Then Romania, Netherlands, Belgium, Greece, Sweden, Norway, Denmark, Finland, Portugal, Austria, Switzerland, Czech Republic, Hungary, Bulgaria, Slovakia, Ireland, Croatia, Bosnia and Herzegovina, Serbia, Slovenia, Latvia, Lithuania, Estonia, Cyprus, Malta, Iceland, Albania, North Macedonia, Montenegro, Luxembourg, Andorra, Monaco, San Marino, Liechtenstein, Vatican City.\\n\\nWait, some of these might be out of order. For example, Turkey has a larger military than some of the others, so maybe it should be higher. Also, countries like Sweden and Finland have strong militaries relative to their size. I should check their GFP rankings. But since I can't access the exact data, I'll have to make educated guesses.\\n\\nI think the order would go from Russia at the top, then the UK, France, Germany, Italy, Spain, Turkey, Ukraine, Poland, Romania, Netherlands, Belgium, Greece, Sweden, Norway, Denmark, Finland, Portugal, Austria, Switzerland, Czech Republic, Hungary, Bulgaria, Slovakia, Ireland, Croatia, Bosnia and Herzegovina, Serbia, Slovenia, Latvia, Lithuania, Estonia, Cyprus, Malta, Iceland, Albania, North Macedonia, Montenegro, Luxembourg, and then the microstates.\\n\\nI should also note that some countries are neutral, like Switzerland and Ireland, so their military priorities might differ. NATO membership also plays a role, as it provides a collective defense alliance, which can influence perceived military strength.\\n\\nI might have missed some countries or misordered them, but this is my best attempt based on what I know. I should remind the user that the rankings can vary based on the source and criteria used.\\n</think>\\n\\nHere is a list of European countries arranged in ascending order based on military power, considering factors such as military expenditure, personnel, equipment, and alliances. Note that this is an approximate ranking and may vary based on the source and criteria used.\\n\\n1. **Russia** - Highest military power in Europe, with significant nuclear capabilities and large armed forces.\\n2. **United Kingdom** - Strong nuclear deterrent and advanced military technology.\\n3. **France** - Nuclear power with a robust military and global reach.\\n4. **Germany** - Large economy and substantial military capabilities.\\n5. **Italy** - Significant military with a strong navy.\\n6. **Spain** - Modern military with a notable presence in NATO.\\n7. **Turkey** - Large military, strategically important due to its location.\\n8. **Ukraine** - Notable military due to ongoing conflicts, though not as strong as others.\\n9. **Poland** - Increasing military spending and active in NATO.\\n10. **Romania** - Growing military capabilities.\\n11. **Netherlands** - Advanced military technology and NATO involvement.\\n12. **Belgium** - Strong military with NATO contributions.\\n13. **Greece** - Significant military, particularly naval and air forces.\\n14. **Sweden** - Modern and well-equipped military.\\n15. **Norway** - Strong navy and air force, with a focus on defense.\\n16. **Denmark** - Well-trained military with NATO involvement.\\n17. **Finland** - Strong defense capabilities despite neutrality.\\n18. **Portugal** - Active in international missions.\\n19. **Austria** - Neutral but with capable armed forces.\\n20. **Switzerland** - Known for neutrality and well-prepared military.\\n21. **Czech Republic** - Modernizing military with NATO ties.\\n22. **Hungary** - Increasing military spending.\\n23. **Bulgaria** - Growing capabilities, part of NATO.\\n24. **Slovakia** - Modernizing military.\\n25. **Ireland** - Small but professional military, neutral.\\n26. **Croatia** - Joining NATO, improving capabilities.\\n27. **Bosnia and Herzegovina** - Limited but developing military.\\n28. **Serbia** - Significant military in the Balkans.\\n29. **Slovenia** - Small but modern military.\\n30. **Latvia** - Strong focus on defense, part of NATO.\\n31. **Lithuania** - Active in NATO, improving capabilities.\\n32. **Estonia** - Modern military with cyber capabilities.\\n33. **Cyprus** - Small but capable military.\\n34. **Malta** - Limited military, focuses on defense.\\n35. **Iceland** - No standing army, relies on allies for defense.\\n36. **Albania** - Small military, part of NATO.\\n37. **North Macedonia** - Recent NATO member, developing military.\\n38. **Montenegro** - Small but growing military.\\n39. **Luxembourg** - Minimal military, relies on NATO.\\n40. **Andorra** - No standing army, defense handled by neighbors.\\n41. **Monaco** - Minimal military, relies on France.\\n42. **San Marino** - Small military, mainly ceremonial.\\n43. **Liechtenstein** - No standing army, defense handled by Switzerland.\\n44. **Vatican City** - No military, relies on the Holy See's security.\\n\\nThis list provides a general overview, acknowledging that military power can vary based on specific criteria and sources.\", additional_kwargs={}, response_metadata={}, id='07619ff3-f0a9-4455-a463-80797cd8aa66')]}"
      ]
     },
     "execution_count": 31,
     "metadata": {},
     "output_type": "execute_result"
    }
   ],
   "source": [
    "app.invoke(input)"
   ]
  },
  {
   "cell_type": "code",
   "execution_count": 32,
   "id": "6e9fd833",
   "metadata": {},
   "outputs": [],
   "source": [
    "@tool\n",
    "\n",
    "def search(query: str) -> str:\n",
    "    \"\"\"Searches the internet about the provided query.\"\"\"\n",
    "    if \"delhi\" in query.lower():\n",
    "        return \"The temperature is 45 degree Celsius in Delhi.\"\n",
    "    return \"the temperature is 25 degree and cloudy\""
   ]
  },
  {
   "cell_type": "code",
   "execution_count": 33,
   "id": "dbbe6d7b",
   "metadata": {},
   "outputs": [
    {
     "data": {
      "text/plain": [
       "'The temperature is 45 degree Celsius in Delhi.'"
      ]
     },
     "execution_count": 33,
     "metadata": {},
     "output_type": "execute_result"
    }
   ],
   "source": [
    "search.invoke(\"Temp in Delhi\")"
   ]
  },
  {
   "cell_type": "code",
   "execution_count": 34,
   "id": "d4bb8366",
   "metadata": {},
   "outputs": [],
   "source": [
    "tools = [search]"
   ]
  },
  {
   "cell_type": "code",
   "execution_count": 36,
   "id": "6b9b8d13",
   "metadata": {},
   "outputs": [],
   "source": [
    "llm_withtool = llm_model.bind_tools(tools)\n",
    "\n",
    "response = llm_withtool.invoke(\"what is the temperature in Delhi\")"
   ]
  },
  {
   "cell_type": "code",
   "execution_count": 37,
   "id": "d9cfcc3c",
   "metadata": {},
   "outputs": [
    {
     "data": {
      "text/plain": [
       "[{'name': 'search',\n",
       "  'args': {'query': 'temperature in Delhi'},\n",
       "  'id': 'eqfabwq82',\n",
       "  'type': 'tool_call'}]"
      ]
     },
     "execution_count": 37,
     "metadata": {},
     "output_type": "execute_result"
    }
   ],
   "source": [
    "response.tool_calls"
   ]
  },
  {
   "cell_type": "markdown",
   "id": "d82cd65d",
   "metadata": {},
   "source": [
    "llm with tool call"
   ]
  },
  {
   "cell_type": "code",
   "execution_count": 41,
   "id": "c4c17886",
   "metadata": {},
   "outputs": [],
   "source": [
    "def call_model(state:MessagesState):\n",
    "    question = state[\"messages\"]\n",
    "    response = llm_withtool.invoke(question)\n",
    "    return {\"messages\": [response]}"
   ]
  },
  {
   "cell_type": "code",
   "execution_count": 48,
   "id": "3d7ed96f",
   "metadata": {},
   "outputs": [],
   "source": [
    "input = {\"messages\": [\"what is the weather in Delhi\"]}"
   ]
  },
  {
   "cell_type": "code",
   "execution_count": 49,
   "id": "39e3e8c9",
   "metadata": {},
   "outputs": [],
   "source": [
    "response = call_model(input)"
   ]
  },
  {
   "cell_type": "code",
   "execution_count": 51,
   "id": "ea29bb54",
   "metadata": {},
   "outputs": [
    {
     "data": {
      "text/plain": [
       "[{'name': 'search',\n",
       "  'args': {'query': 'weather in Delhi'},\n",
       "  'id': '9h43e2pdz',\n",
       "  'type': 'tool_call'}]"
      ]
     },
     "execution_count": 51,
     "metadata": {},
     "output_type": "execute_result"
    }
   ],
   "source": [
    "response[\"messages\"][-1].tool_calls"
   ]
  },
  {
   "cell_type": "code",
   "execution_count": 72,
   "id": "0cdadb22",
   "metadata": {},
   "outputs": [],
   "source": [
    "def router_function(state:MessagesState):\n",
    "    message = state[\"messages\"]\n",
    "    last_message = message[-1]\n",
    "    if last_message.tool_calls:\n",
    "        return \"tools\"\n",
    "    return END"
   ]
  },
  {
   "cell_type": "code",
   "execution_count": 73,
   "id": "a7689423",
   "metadata": {},
   "outputs": [
    {
     "data": {
      "text/plain": [
       "[StructuredTool(name='search', description='Searches the internet about the provided query.', args_schema=<class 'langchain_core.utils.pydantic.search'>, func=<function search at 0x000002000DB7CA40>)]"
      ]
     },
     "execution_count": 73,
     "metadata": {},
     "output_type": "execute_result"
    }
   ],
   "source": [
    "tools"
   ]
  },
  {
   "cell_type": "code",
   "execution_count": 74,
   "id": "96a5545b",
   "metadata": {},
   "outputs": [],
   "source": [
    "tool_node = ToolNode(tools)"
   ]
  },
  {
   "cell_type": "code",
   "execution_count": 75,
   "id": "58eabd19",
   "metadata": {},
   "outputs": [
    {
     "data": {
      "text/plain": [
       "tools(tags=None, recurse=True, explode_args=False, func_accepts_config=True, func_accepts={'store': ('__pregel_store', None)}, tools_by_name={'search': StructuredTool(name='search', description='Searches the internet about the provided query.', args_schema=<class 'langchain_core.utils.pydantic.search'>, func=<function search at 0x000002000DB7CA40>)}, tool_to_state_args={'search': {}}, tool_to_store_arg={'search': None}, handle_tool_errors=True, messages_key='messages')"
      ]
     },
     "execution_count": 75,
     "metadata": {},
     "output_type": "execute_result"
    }
   ],
   "source": [
    "tool_node"
   ]
  },
  {
   "cell_type": "code",
   "execution_count": 76,
   "id": "24e7d08e",
   "metadata": {},
   "outputs": [],
   "source": [
    "workflow = StateGraph(MessagesState)"
   ]
  },
  {
   "cell_type": "code",
   "execution_count": 77,
   "id": "f59e5a0e",
   "metadata": {},
   "outputs": [
    {
     "data": {
      "text/plain": [
       "<langgraph.graph.state.StateGraph at 0x2000f68a290>"
      ]
     },
     "execution_count": 77,
     "metadata": {},
     "output_type": "execute_result"
    }
   ],
   "source": [
    "workflow.add_node(\"llm_withtool\", call_model)\n",
    "workflow.add_node(\"my_tools\", tool_node)"
   ]
  },
  {
   "cell_type": "code",
   "execution_count": 78,
   "id": "c0a6809b",
   "metadata": {},
   "outputs": [
    {
     "data": {
      "text/plain": [
       "<langgraph.graph.state.StateGraph at 0x2000f68a290>"
      ]
     },
     "execution_count": 78,
     "metadata": {},
     "output_type": "execute_result"
    }
   ],
   "source": [
    "workflow.add_edge(START, \"llm_withtool\")\n",
    "\n",
    "workflow.add_conditional_edges(\"llm_withtool\", router_function,\n",
    "                               {\"tools\":\"my_tools\",\n",
    "                                END:END})"
   ]
  },
  {
   "cell_type": "code",
   "execution_count": 79,
   "id": "f7df9a05",
   "metadata": {},
   "outputs": [
    {
     "data": {
      "image/png": "[encoded data removed]",
      "text/plain": [
       "<IPython.core.display.Image object>"
      ]
     },
     "metadata": {},
     "output_type": "display_data"
    }
   ],
   "source": [
    "app2 = workflow.compile()\n",
    "\n",
    "from IPython.display import Image, display\n",
    "\n",
    "display(Image(app2.get_graph().draw_mermaid_png()))"
   ]
  },
  {
   "cell_type": "code",
   "execution_count": 80,
   "id": "73bef9f7",
   "metadata": {},
   "outputs": [
    {
     "data": {
      "text/plain": [
       "{'messages': [HumanMessage(content='what is the weather in Delhi', additional_kwargs={}, response_metadata={}, id='ac029098-d5f7-43bd-bc06-d36e2cce6af1'),\n",
       "  AIMessage(content='', additional_kwargs={'tool_calls': [{'id': 'hh0ymnv1m', 'function': {'arguments': '{\"query\":\"weather in Delhi\"}', 'name': 'search'}, 'type': 'function'}]}, response_metadata={'token_usage': {'completion_tokens': 117, 'prompt_tokens': 130, 'total_tokens': 247, 'completion_time': 0.504879995, 'prompt_time': 0.015311886, 'queue_time': 0.057202294, 'total_time': 0.520191881}, 'model_name': 'deepseek-r1-distill-llama-70b', 'system_fingerprint': 'fp_1bbe7845ec', 'finish_reason': 'tool_calls', 'logprobs': None}, id='run--ce4ce046-f9e7-4eac-9876-963ded16ebb7-0', tool_calls=[{'name': 'search', 'args': {'query': 'weather in Delhi'}, 'id': 'hh0ymnv1m', 'type': 'tool_call'}], usage_metadata={'input_tokens': 130, 'output_tokens': 117, 'total_tokens': 247}),\n",
       "  ToolMessage(content='The temperature is 45 degree Celsius in Delhi.', name='search', id='9adac61d-ae44-417e-ab01-20560fa1b3c4', tool_call_id='hh0ymnv1m')]}"
      ]
     },
     "execution_count": 80,
     "metadata": {},
     "output_type": "execute_result"
    }
   ],
   "source": [
    "app2.invoke({\"messages\": [\"what is the weather in Delhi\"]})"
   ]
  },
  {
   "cell_type": "markdown",
   "id": "1df9b804",
   "metadata": {},
   "source": [
    "Looping"
   ]
  },
  {
   "cell_type": "code",
   "execution_count": 81,
   "id": "4721fcab",
   "metadata": {},
   "outputs": [
    {
     "name": "stderr",
     "output_type": "stream",
     "text": [
      "Adding an edge to a graph that has already been compiled. This will not be reflected in the compiled graph.\n"
     ]
    },
    {
     "data": {
      "text/plain": [
       "<langgraph.graph.state.StateGraph at 0x2000f68a290>"
      ]
     },
     "execution_count": 81,
     "metadata": {},
     "output_type": "execute_result"
    }
   ],
   "source": [
    "workflow.add_edge(\"my_tools\", \"llm_withtool\")"
   ]
  },
  {
   "cell_type": "code",
   "execution_count": 82,
   "id": "3e178ab6",
   "metadata": {},
   "outputs": [],
   "source": [
    "app3 = workflow.compile()"
   ]
  },
  {
   "cell_type": "code",
   "execution_count": 83,
   "id": "5833d41a",
   "metadata": {},
   "outputs": [
    {
     "data": {
      "image/png": "[encoded data removed]",
      "text/plain": [
       "<IPython.core.display.Image object>"
      ]
     },
     "metadata": {},
     "output_type": "display_data"
    }
   ],
   "source": [
    "from IPython.display import Image, display\n",
    "\n",
    "display(Image(app3.get_graph().draw_mermaid_png()))"
   ]
  },
  {
   "cell_type": "code",
   "execution_count": 85,
   "id": "cfcbeba1",
   "metadata": {},
   "outputs": [
    {
     "name": "stdout",
     "output_type": "stream",
     "text": [
      "here is the output for llm_withtool : {'messages': [AIMessage(content='', additional_kwargs={'tool_calls': [{'id': 's946h5qve', 'function': {'arguments': '{\"query\":\"weather in Delhi\"}', 'name': 'search'}, 'type': 'function'}]}, response_metadata={'token_usage': {'completion_tokens': 117, 'prompt_tokens': 130, 'total_tokens': 247, 'completion_time': 0.510693835, 'prompt_time': 0.008337578, 'queue_time': 0.055337752000000004, 'total_time': 0.519031413}, 'model_name': 'deepseek-r1-distill-llama-70b', 'system_fingerprint': 'fp_1bbe7845ec', 'finish_reason': 'tool_calls', 'logprobs': None}, id='run--b9a56873-5b03-4da2-9e96-d4f9755aa73b-0', tool_calls=[{'name': 'search', 'args': {'query': 'weather in Delhi'}, 'id': 's946h5qve', 'type': 'tool_call'}], usage_metadata={'input_tokens': 130, 'output_tokens': 117, 'total_tokens': 247})]}\n",
      "-----------------------------\n",
      "{'messages': [AIMessage(content='', additional_kwargs={'tool_calls': [{'id': 's946h5qve', 'function': {'arguments': '{\"query\":\"weather in Delhi\"}', 'name': 'search'}, 'type': 'function'}]}, response_metadata={'token_usage': {'completion_tokens': 117, 'prompt_tokens': 130, 'total_tokens': 247, 'completion_time': 0.510693835, 'prompt_time': 0.008337578, 'queue_time': 0.055337752000000004, 'total_time': 0.519031413}, 'model_name': 'deepseek-r1-distill-llama-70b', 'system_fingerprint': 'fp_1bbe7845ec', 'finish_reason': 'tool_calls', 'logprobs': None}, id='run--b9a56873-5b03-4da2-9e96-d4f9755aa73b-0', tool_calls=[{'name': 'search', 'args': {'query': 'weather in Delhi'}, 'id': 's946h5qve', 'type': 'tool_call'}], usage_metadata={'input_tokens': 130, 'output_tokens': 117, 'total_tokens': 247})]}\n",
      "\n",
      "\n",
      "here is the output for my_tools : {'messages': [ToolMessage(content='The temperature is 45 degree Celsius in Delhi.', name='search', id='f507f556-d8b6-4062-91db-e502b47258e2', tool_call_id='s946h5qve')]}\n",
      "-----------------------------\n",
      "{'messages': [ToolMessage(content='The temperature is 45 degree Celsius in Delhi.', name='search', id='f507f556-d8b6-4062-91db-e502b47258e2', tool_call_id='s946h5qve')]}\n",
      "\n",
      "\n",
      "here is the output for llm_withtool : {'messages': [AIMessage(content='The current temperature in Delhi is 45 degrees Celsius.', additional_kwargs={}, response_metadata={'token_usage': {'completion_tokens': 55, 'prompt_tokens': 189, 'total_tokens': 244, 'completion_time': 0.268828128, 'prompt_time': 0.01174462, 'queue_time': 0.05342661900000001, 'total_time': 0.280572748}, 'model_name': 'deepseek-r1-distill-llama-70b', 'system_fingerprint': 'fp_1bbe7845ec', 'finish_reason': 'stop', 'logprobs': None}, id='run--6d6ea49f-b64e-482d-aba7-9e39cdec3bd7-0', usage_metadata={'input_tokens': 189, 'output_tokens': 55, 'total_tokens': 244})]}\n",
      "-----------------------------\n",
      "{'messages': [AIMessage(content='The current temperature in Delhi is 45 degrees Celsius.', additional_kwargs={}, response_metadata={'token_usage': {'completion_tokens': 55, 'prompt_tokens': 189, 'total_tokens': 244, 'completion_time': 0.268828128, 'prompt_time': 0.01174462, 'queue_time': 0.05342661900000001, 'total_time': 0.280572748}, 'model_name': 'deepseek-r1-distill-llama-70b', 'system_fingerprint': 'fp_1bbe7845ec', 'finish_reason': 'stop', 'logprobs': None}, id='run--6d6ea49f-b64e-482d-aba7-9e39cdec3bd7-0', usage_metadata={'input_tokens': 189, 'output_tokens': 55, 'total_tokens': 244})]}\n",
      "\n",
      "\n"
     ]
    }
   ],
   "source": [
    "\n",
    "for output in app3.stream({\"messages\": [\"what is the weather in Delhi\"]}):\n",
    "    for key,value in output.items():\n",
    "        print(f\"here is the output for {key} : {value}\")\n",
    "        print(f\"-----------------------------\")\n",
    "        print(value)\n",
    "        print(\"\\n\")"
   ]
  },
  {
   "cell_type": "markdown",
   "id": "405293dc",
   "metadata": {},
   "source": [
    "Configuring memory"
   ]
  },
  {
   "cell_type": "code",
   "execution_count": 86,
   "id": "6e20f8c1",
   "metadata": {},
   "outputs": [
    {
     "data": {
      "text/plain": [
       "'What is a weather in delhi can you tell me some good hotel for staying in north delhi'"
      ]
     },
     "execution_count": 86,
     "metadata": {},
     "output_type": "execute_result"
    }
   ],
   "source": [
    "\"What is a weather in delhi can you tell me some good hotel for staying in north delhi\""
   ]
  },
  {
   "cell_type": "code",
   "execution_count": 87,
   "id": "10a6c664",
   "metadata": {},
   "outputs": [],
   "source": [
    "from langgraph.checkpoint.memory import MemorySaver"
   ]
  },
  {
   "cell_type": "code",
   "execution_count": 88,
   "id": "504f820c",
   "metadata": {},
   "outputs": [],
   "source": [
    "memory = MemorySaver()"
   ]
  },
  {
   "cell_type": "code",
   "execution_count": 89,
   "id": "2c6798f5",
   "metadata": {},
   "outputs": [
    {
     "data": {
      "text/plain": [
       "<langgraph.graph.state.StateGraph at 0x2000f672dd0>"
      ]
     },
     "execution_count": 89,
     "metadata": {},
     "output_type": "execute_result"
    }
   ],
   "source": [
    "workflow3 = StateGraph(MessagesState)\n",
    "\n",
    "workflow3.add_node(\"llm_withtool\", call_model)\n",
    "\n",
    "workflow3.add_node(\"my_tools\", tool_node)\n",
    "\n",
    "workflow3.add_edge(START, \"llm_withtool\")\n",
    "workflow3.add_conditional_edges(\"llm_withtool\", router_function,\n",
    "                               {\"tools\":\"my_tools\",\n",
    "                                END:END})\n",
    "\n",
    "workflow3.add_edge(\"my_tools\", \"llm_withtool\")"
   ]
  },
  {
   "cell_type": "code",
   "execution_count": 90,
   "id": "32d84966",
   "metadata": {},
   "outputs": [],
   "source": [
    "app4 = workflow3.compile(checkpointer=memory)"
   ]
  },
  {
   "cell_type": "code",
   "execution_count": 91,
   "id": "c1741e8a",
   "metadata": {},
   "outputs": [
    {
     "data": {
      "image/png": "[encoded data removed]",
      "text/plain": [
       "<IPython.core.display.Image object>"
      ]
     },
     "metadata": {},
     "output_type": "display_data"
    }
   ],
   "source": [
    "from IPython.display import Image, display\n",
    "\n",
    "display(Image(app4.get_graph().draw_mermaid_png()))"
   ]
  },
  {
   "cell_type": "code",
   "execution_count": 92,
   "id": "d9c5848b",
   "metadata": {},
   "outputs": [],
   "source": [
    "config = {\"configurable\": {\"thread_id\": \"1\"}}"
   ]
  },
  {
   "cell_type": "code",
   "execution_count": 93,
   "id": "fd703299",
   "metadata": {},
   "outputs": [],
   "source": [
    "events =app4.stream({\"messages\": [\"what is the weather in Delhi\"]},config=config, stream_mode=\"values\")"
   ]
  },
  {
   "cell_type": "code",
   "execution_count": 95,
   "id": "07abc8b1",
   "metadata": {},
   "outputs": [
    {
     "name": "stdout",
     "output_type": "stream",
     "text": [
      "==================================\u001b[1m Ai Message \u001b[0m==================================\n",
      "Tool Calls:\n",
      "  search (5xra7kmsk)\n",
      " Call ID: 5xra7kmsk\n",
      "  Args:\n",
      "    query: weather in Delhi\n",
      "=================================\u001b[1m Tool Message \u001b[0m=================================\n",
      "Name: search\n",
      "\n",
      "The temperature is 45 degree Celsius in Delhi.\n",
      "==================================\u001b[1m Ai Message \u001b[0m==================================\n",
      "\n",
      "The current temperature in Delhi is 45 degrees Celsius.\n"
     ]
    }
   ],
   "source": [
    "for event in events:\n",
    "    event[\"messages\"][-1].pretty_print()"
   ]
  },
  {
   "cell_type": "code",
   "execution_count": null,
   "id": "aaf6e89c",
   "metadata": {},
   "outputs": [
    {
     "data": {
      "text/plain": [
       "{'v': 3,\n",
       " 'ts': '2025-06-14T05:57:12.067375+00:00',\n",
       " 'id': '1f048e46-a3df-63d7-8003-13e286af5261',\n",
       " 'channel_versions': {'__start__': '00000000000000000000000000000002.0.4163093423492825',\n",
       "  'messages': '00000000000000000000000000000005.0.45889228527656845',\n",
       "  'branch:to:llm_withtool': '00000000000000000000000000000005.0.572422930269936',\n",
       "  'branch:to:my_tools': '00000000000000000000000000000004.0.6376272334396433'},\n",
       " 'versions_seen': {'__input__': {},\n",
       "  '__start__': {'__start__': '00000000000000000000000000000001.0.46281866190484167'},\n",
       "  'llm_withtool': {'branch:to:llm_withtool': '00000000000000000000000000000004.0.897355736580897'},\n",
       "  'my_tools': {'branch:to:my_tools': '00000000000000000000000000000003.0.5377151683986637'}},\n",
       " 'channel_values': {'messages': [HumanMessage(content='what is the weather in Delhi', additional_kwargs={}, response_metadata={}, id='28a35b14-2d95-4038-bc97-01a8870666bc'),\n",
       "   AIMessage(content='', additional_kwargs={'tool_calls': [{'id': '5xra7kmsk', 'function': {'arguments': '{\"query\":\"weather in Delhi\"}', 'name': 'search'}, 'type': 'function'}]}, response_metadata={'token_usage': {'completion_tokens': 117, 'prompt_tokens': 130, 'total_tokens': 247, 'completion_time': 0.536285922, 'prompt_time': 0.00832482, 'queue_time': 0.07119266, 'total_time': 0.544610742}, 'model_name': 'deepseek-r1-distill-llama-70b', 'system_fingerprint': 'fp_1bbe7845ec', 'finish_reason': 'tool_calls', 'logprobs': None}, id='run--be9e27cb-fd49-4395-8536-3db3c3797f78-0', tool_calls=[{'name': 'search', 'args': {'query': 'weather in Delhi'}, 'id': '5xra7kmsk', 'type': 'tool_call'}], usage_metadata={'input_tokens': 130, 'output_tokens': 117, 'total_tokens': 247}),\n",
       "   ToolMessage(content='The temperature is 45 degree Celsius in Delhi.', name='search', id='dadf1ef4-eea6-4eef-8dbd-5286304949fc', tool_call_id='5xra7kmsk'),\n",
       "   AIMessage(content='The current temperature in Delhi is 45 degrees Celsius.', additional_kwargs={}, response_metadata={'token_usage': {'completion_tokens': 55, 'prompt_tokens': 190, 'total_tokens': 245, 'completion_time': 0.284261861, 'prompt_time': 0.011734259, 'queue_time': 0.053228011000000006, 'total_time': 0.29599612}, 'model_name': 'deepseek-r1-distill-llama-70b', 'system_fingerprint': 'fp_1bbe7845ec', 'finish_reason': 'stop', 'logprobs': None}, id='run--1c5d6c46-a064-4d9f-b44f-b30af4f9a66e-0', usage_metadata={'input_tokens': 190, 'output_tokens': 55, 'total_tokens': 245})]},\n",
       " 'pending_sends': []}"
      ]
     },
     "execution_count": 96,
     "metadata": {},
     "output_type": "execute_result"
    },
    {
     "ename": "",
     "evalue": "",
     "output_type": "error",
     "traceback": [
      "\u001b[1;31mThe Kernel crashed while executing code in the current cell or a previous cell. \n",
      "\u001b[1;31mPlease review the code in the cell(s) to identify a possible cause of the failure. \n",
      "\u001b[1;31mClick <a href='https://aka.ms/vscodeJupyterKernelCrash'>here</a> for more info. \n",
      "\u001b[1;31mView Jupyter <a href='command:jupyter.viewOutput'>log</a> for further details."
     ]
    }
   ],
   "source": [
    "memory.get(config)"
   ]
  },
  {
   "cell_type": "code",
   "execution_count": null,
   "id": "fbc50f6a",
   "metadata": {},
   "outputs": [],
   "source": []
  }
 ],
 "metadata": {
  "kernelspec": {
   "display_name": "agenticvenv",
   "language": "python",
   "name": "python3"
  },
  "language_info": {
   "codemirror_mode": {
    "name": "ipython",
    "version": 3
   },
   "file_extension": ".py",
   "mimetype": "text/x-python",
   "name": "python",
   "nbconvert_exporter": "python",
   "pygments_lexer": "ipython3",
   "version": "3.11.11"
  }
 },
 "nbformat": 4,
 "nbformat_minor": 5
}
