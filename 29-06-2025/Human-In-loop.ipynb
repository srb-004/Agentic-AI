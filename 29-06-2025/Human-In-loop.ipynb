{
 "cells": [
  {
   "cell_type": "code",
   "execution_count": 1,
   "id": "91c3c665",
   "metadata": {},
   "outputs": [],
   "source": [
    "import os\n",
    "\n",
    "from dotenv import load_dotenv\n",
    "from langchain_groq import ChatGroq\n",
    "from langchain.tools import tool\n",
    "\n",
    "load_dotenv()\n",
    "\n",
    "os.environ[\"GROQ_API_KEY\"] = os.getenv(\"GROQ_API_KEY\")"
   ]
  },
  {
   "cell_type": "code",
   "execution_count": 2,
   "id": "0db7a04f",
   "metadata": {},
   "outputs": [
    {
     "data": {
      "text/plain": [
       "'<think>\\n\\n</think>\\n\\nLatentView Analytics is a leading analytics and business intelligence firm that specializes in helping organizations leverage data to make informed decisions. The company provides a range of services, including data analytics, business intelligence, predictive analytics, and big data solutions. Here are some key aspects of LatentView Analytics:\\n\\n1. **Data Analytics**: LatentView helps organizations analyze and interpret complex data sets to uncover insights that can drive business performance. This includes descriptive, diagnostic, predictive, and prescriptive analytics.\\n\\n2. **Business Intelligence**: The company offers business intelligence solutions that enable organizations to make data-driven decisions. This includes developing BI dashboards, reports, and KPIs to monitor business performance.\\n\\n3. **Predictive Analytics**: LatentView uses advanced statistical techniques and machine learning algorithms to predict future trends and behaviors. This helps organizations anticipate customer needs, manage risks, and optimize operations.\\n\\n4. **Big Data Solutions**: With expertise in big data technologies like Hadoop, Spark, and NoSQL databases, LatentView helps organizations manage and analyze large volumes of structured and unstructured data.\\n\\n5. **Industry Expertise**: The company serves a wide range of industries, including retail, healthcare, finance, manufacturing, and more. This industry-specific knowledge allows them to provide tailored solutions that address unique business challenges.\\n\\n6. **Consulting Services**: LatentView offers consulting services to help organizations develop a data-driven culture. This includes strategy development, process optimization, and change management.\\n\\n7. **Technology Partnerships**: The company partners with leading technology providers to deliver cutting-edge solutions. This includes partnerships with companies like Tableau, Power BI, AWS, and Azure.\\n\\n8. **Innovation**: LatentView is known for its innovative approach to analytics. The company invests in research and development to stay ahead of the curve in emerging technologies like AI, blockchain, and IoT.\\n\\n9. **Global Presence**: With offices in multiple countries, LatentView has a global presence and serves clients worldwide. This allows them to provide localized solutions that cater to regional business needs.\\n\\n10. **Awards and Recognition**: LatentView has received several awards and recognitions for its work in the analytics space. This includes being named as one of the top analytics companies by industry publications.\\n\\nOverall, LatentView Analytics is a trusted partner for organizations looking to harness the power of data to achieve their business goals. Their combination of technical expertise, industry knowledge, and innovative approach makes them a leader in the'"
      ]
     },
     "execution_count": 2,
     "metadata": {},
     "output_type": "execute_result"
    }
   ],
   "source": [
    "model = ChatGroq(model=\"deepseek-r1-distill-llama-70b\",\n",
    "                   temperature=0.1,\n",
    "                   max_tokens=500)\n",
    "\n",
    "model.invoke(\"Latentview analytics\").content"
   ]
  },
  {
   "cell_type": "code",
   "execution_count": 3,
   "id": "4765f742",
   "metadata": {},
   "outputs": [],
   "source": [
    "from langchain_core.tools import tool\n",
    "from langchain_community.tools.tavily_search import TavilySearchResults"
   ]
  },
  {
   "cell_type": "code",
   "execution_count": 4,
   "id": "f71a8731",
   "metadata": {},
   "outputs": [],
   "source": [
    "@tool\n",
    "def multiply(x:int, y:int) -> int:\n",
    "    \"\"\"Multiply two integers together.\"\"\"\n",
    "    return x * y"
   ]
  },
  {
   "cell_type": "code",
   "execution_count": 9,
   "id": "69e38ee8",
   "metadata": {},
   "outputs": [
    {
     "data": {
      "text/plain": [
       "10"
      ]
     },
     "execution_count": 9,
     "metadata": {},
     "output_type": "execute_result"
    }
   ],
   "source": [
    "multiply({\"x\":2,\"y\":5})"
   ]
  },
  {
   "cell_type": "code",
   "execution_count": 10,
   "id": "133f3849",
   "metadata": {},
   "outputs": [],
   "source": [
    "@tool\n",
    "def search(query:str) -> str:\n",
    "    \"\"\"Search the web for a query.\"\"\"\n",
    "    tavily = TavilySearchResults()\n",
    "    result = tavily.invoke({\"query\":query})\n",
    "    return f\"Result for {query} is : \\n{result}\""
   ]
  },
  {
   "cell_type": "code",
   "execution_count": 17,
   "id": "3abce73b",
   "metadata": {},
   "outputs": [
    {
     "name": "stdout",
     "output_type": "stream",
     "text": [
      "Result for India vs england first test hadingly is : \n",
      "[{'title': 'Live Cricket Update - ENG vs IND 1st Test - ESPNcricinfo', 'url': 'https://www.espncricinfo.com/series/india-in-england-2025-1445348/england-vs-india-1st-test-1448349/live-match-blog', 'content': 'England will need 371 to win the first Test at Headingley, after India were dismissed for 364 in their second innings late on day four. They will return on Tuesday needing 350 more, after Zak Crawley and Ben Duckett negotiated the first six overs of the chase without alarm to close on 21 for 0. [...] Yashasvi Jaiswal’s sparkling hundred put India in charge of the first Test at Headingley. Jaiswal became the first Indian batter to score centuries in his first match in both Australia and England, and his innings was a masterclass in off-side strokeplay: only nine of his first 100 runs came on the leg side, and he cut and drove England’s seamers into submission. [...] _England won the toss and chose to bowl first vs India_\\n\\nB Sai Sudharsan will bat at No. 3 on his Test debut for India against England at Headingley, while Karun Nair returns to international cricket after an eight-year absence. India have picked four seamers for the first Test, including the allrounder Shardul Thakur at No. 8, but it is their batters who will be put to the test on the first morning after Ben Stokes chose to bowl first.', 'score': 0.8215175}, {'title': 'England vs India 1st Test Scorecard - The Indian Express', 'url': 'https://indianexpress.com/section/sports/cricket/live-score/england-vs-india-1st-test-live-score-full-scorecard-highlights-anderson-tendulkar-trophy-2025-enin06202025250825/', 'content': 'to , The much-anticipated five-match Test series between England and India kicks off at Headingley, Leeds, marking the beginning of the ICC World Test Championship 2025-27 cycle for both formidable sides. This series, now rebranded as the Anderson-Tendulkar Trophy, promises a riveting contest between two cricketing powerhouses. All eyes will be on the conditions at Headingley, which traditionally offer assistance to fast bowlers, especially early on. With a mix of sunshine and predicted [...] England vs India LIVE Cricket Score, 1st Test Day 1: Ben Stokes wins toss, England bowl first at HeadingleyImage 11: IND vs ENG Live Score, 1st Test: Catch day 1 updates of the India vs England Test in Leeds.\\n   ‘Life has come full circle in England’: Comeback man Karun Nair ahead of first ENG vs IND TestImage 12: India vs England: Karun Nair revealed an Indian cricketer advised him to retire. (AP) [...] India : 0(0.0) | ENG vs IND 1st Test Match - Live Cricket Score, Full Scorecard, Headingley, Leeds | The Indian Express\\n\\n===============\\n\\nskip to content\\n\\n_Sections_\\n\\n\\n\\n   English\\n   தமிழ்\\n   বাংলা\\n   മലയാളം\\n   ગુજરાતી\\n   हिंदी\\n   मराठी\\n   Business\\n   बिज़नेस\\n\\nNewsletters The Indian Express Newsletter. (Opens in new window)', 'score': 0.8124067}, {'title': 'England chase 371 to seal staggering win over India - BBC', 'url': 'https://www.bbc.com/sport/cricket/live/crrzveqqdv1t', 'content': \"Media caption, 'He's splattered the stumps!' - Tongue takes three wickets in four balls  \\nFast bowler Josh Tongue said there is no situation in which England would see a draw as a good outcome from their thrilling first Test against India at Headingley.\\n\\nEngland will begin the fifth day on 21-0, 350 runs adrift of a target of 371. If the hosts pull it off, it would be their second-highest successful pursuit in a Test and the second-best on this ground. [...] 465 all out(100.4)\\n\\n25-0(6.3)\\n\\n471 all out(113.0)\\n\\n364 all out(96.0)\\n\\nEngland require 346 runs to win with 10 wickets remaining\\n\\nEngland innings:\\n1.   465 all out from 100.4 overs\\n2.   25 for 0 from 6.3 overs, in play\\n\\nIndia innings:\\n1.   471 all out from 113.0 overs\\n2.   364 all out from 96.0 overs\\n\\nAdvertisement\\n\\n   Live Reporting (active)\\n   Scorecard\\n\\nSummary\\n-------\\n\\n   First Test, day five, Headingley\\n\\n   England resume on 21-0, chasing 371 to beat India, who require 10 wickets [...] Published Time: 2025-06-24T09:16:46.171Z\\n\\nEngland vs India cricket LIVE: First Test, day five, Headingley - score, commentary, highlights & updates - BBC Sport\\n\\n===============\\n\\nBBC Homepage\\n\\n   Skip to content\\n   Accessibility Help\\n\\n   Sign in\\n\\n   Home\\n   News\\n   Sport\\n   Business\\n   Innovation\\n   Culture\\n   Travel\\n   Earth\\n   Audio\\n   Video\\n   Live\\n   More menu\\n\\nMore menu\\n\\nSearch BBC\\n\\n   Home\\n   News\\n   Sport\\n   Business\\n   Innovation\\n   Culture\\n   Travel\\n   Earth\\n   Audio\\n   Video\\n   Live\", 'score': 0.78866494}, {'title': 'India lead England by 96 with first Test in balance - as it happened', 'url': 'https://www.bbc.com/sport/cricket/live/ce82lg2kjget', 'content': 'First Test, day three, Headingley. India close on 90-2, leading by 96, as rain arrives just after 18:00 BST. Jaiswal edges Carse behind for', 'score': 0.78846955}, {'title': \"England stun India to pull off another 'miracle of Headingley'\", 'url': 'https://inews.co.uk/sport/cricket/england-stun-india-another-miracle-of-headingley-3768590', 'content': '1st Test, Day 5: England 465 & 373-5 beat India 471 & 364 by five wickets HEADINGLEY - England pulled off another Headingley miracle to chase down 371 in this extraordinary first Test against', 'score': 0.7872945}]\n"
     ]
    }
   ],
   "source": [
    "print(search(\"India vs england first test hadingly\"))"
   ]
  },
  {
   "cell_type": "code",
   "execution_count": 18,
   "id": "44f719f3",
   "metadata": {},
   "outputs": [],
   "source": [
    "tools = [multiply, search]\n",
    "\n",
    "llm_with_tools = model.bind_tools(tools)"
   ]
  },
  {
   "cell_type": "code",
   "execution_count": 20,
   "id": "f8ce0ca7",
   "metadata": {},
   "outputs": [],
   "source": [
    "result = llm_with_tools.invoke(\"What is the result of pro kabbadi league 2024\")"
   ]
  },
  {
   "cell_type": "code",
   "execution_count": 21,
   "id": "de02112b",
   "metadata": {},
   "outputs": [
    {
     "data": {
      "text/plain": [
       "[{'name': 'search',\n",
       "  'args': {'query': 'Pro Kabaddi League 2024 result'},\n",
       "  'id': 'awsb1dxas',\n",
       "  'type': 'tool_call'}]"
      ]
     },
     "execution_count": 21,
     "metadata": {},
     "output_type": "execute_result"
    }
   ],
   "source": [
    "result.tool_calls"
   ]
  },
  {
   "cell_type": "code",
   "execution_count": 22,
   "id": "6153c279",
   "metadata": {},
   "outputs": [
    {
     "data": {
      "text/plain": [
       "{'multiply': StructuredTool(name='multiply', description='Multiply two integers together.', args_schema=<class 'langchain_core.utils.pydantic.multiply'>, func=<function multiply at 0x000001F1D2378FE0>),\n",
       " 'search': StructuredTool(name='search', description='Search the web for a query.', args_schema=<class 'langchain_core.utils.pydantic.search'>, func=<function search at 0x000001F1D301BEC0>)}"
      ]
     },
     "execution_count": 22,
     "metadata": {},
     "output_type": "execute_result"
    }
   ],
   "source": [
    "tool_mapping = { tool.name: tool for tool in tools}\n",
    "tool_mapping"
   ]
  },
  {
   "cell_type": "code",
   "execution_count": 23,
   "id": "d4d179a3",
   "metadata": {},
   "outputs": [
    {
     "data": {
      "text/plain": [
       "'Result for Pro Kabaddi League 2024 result is : \\n[{\\'title\\': \\'Pro Kabaddi Points Table 2024 - News18\\', \\'url\\': \\'https://www.news18.com/pro-kabaddi/table/\\', \\'content\\': \"| Teams | P | W | L | T | Score Diff | PTS |\\\\n| --- | --- | --- | --- | --- | --- | --- |\\\\n| Haryana Steelers | 22 | 16 | 6 | 0 | 112 | 84 |\\\\n| Dabang Delhi K.C. | 22 | 13 | 5 | 4 | 85 | 81 |\\\\n| UP Yoddhas | 22 | 13 | 6 | 3 | 97 | 79 |\\\\n| Patna Pirates | 22 | 13 | 7 | 2 | 93 | 77 |\\\\n| U Mumba | 22 | 12 | 8 | 2 | 16 | 71 |\\\\n| Jaipur Pink Panthers | 22 | 12 | 8 | 2 | 55 | 70 |\\\\n| Telugu Titans | 22 | 12 | 10 | 0 | -40 | 66 |\\\\n| Puneri Paltan | 22 | 9 | 10 | 3 | 61 | 60 | [...] | Tamil Thalaivas | 22 | 8 | 13 | 1 | 16 | 50 |\\\\n| Bengal Warriorz | 22 | 5 | 14 | 3 | -116 | 41 |\\\\n| Gujarat Giants | 22 | 5 | 14 | 3 | -152 | 38 |\\\\n| Bengaluru Bulls | 22 | 2 | 19 | 1 | -227 | 19 | [...] Patna Pirates top the overall points charts in the PKL with 6688 points to their name, while Bengaluru Bulls with 6407 points overall stand second in the table. U Mumba\\'s 6107 points ranks third in the team total.\\\\n\\\\nshort video\\\\n\\\\n## \\\\n\\\\n## Latest News\\\\n\\\\n## LIVE TV\\\\n\\\\n## TRENDING VIDEOS\\\\n\\\\n## Latest Blogs\\\\n\\\\n## Photogallery\\\\n\\\\n### Trending Topics\\\\n\\\\n### Hot On Social\\\\n\\\\n### Popular Categories\\\\n\\\\n### Language Sites\\\\n\\\\n### Network18 Group Sites\\\\n\\\\nNews18\\\\napp download\\\\nbsi logo\\\\nbsi logo\", \\'score\\': 0.92176014}, {\\'title\\': \\'PKL 11: Team standings and points table of the Pro Kabaddi League 2024 ...\\', \\'url\\': \\'https://www.sportingnews.com/in/kabaddi/news/pkl-11-team-standings-and-points-table-pro-kabaddi-league-2024-season/32044b365ae2fc95061458e5\\', \\'content\\': \\'| Pos. | Team | Matches | Won | Tie/NR | Loss | Points | Score Diff. |\\\\n| --- | --- | --- | --- | --- | --- | --- | --- |\\\\n| 1 | Haryana Steelers (Q) | 22 | 16 | 0 | 6 | 84 | +112 |\\\\n| 2 | Dabang Delhi KC (Q) | 22 | 13 | 4 | 5 | 81 | +85 |\\\\n| 3 | UP Yoddhas (Q) | 22 | 13 | 3 | 6 | 79 | +97 |\\\\n| 4 | Patna Pirates (Q) | 22 | 13 | 2 | 7 | 77 | +93 |\\\\n| 5 | U Mumba (Q) | 22 | 12 | 2 | 8 | 71 | +16 |\\\\n| 6 | Jaipur Pink Panthers (Q) | 22 | 12 | 2 | 8 | 70 | +55 | [...] | 7 | Telugu Titans | 22 | 12 | 0 | 10 | 66 | -40 |\\\\n| 8 | Puneri Paltan | 22 | 9 | 3 | 10 | 60 | +61 |\\\\n| 9 | Tamil Thalaivas | 22 | 8 | 1 | 13 | 50 | +16 |\\\\n| 10 | Bengal Warriorz | 22 | 5 | 3 | 14 | 41 | -116 |\\\\n| 11 | Gujarat Titans | 22 | 5 | 3 | 14 | 38 | -152 |\\\\n| 12 | Bengaluru Bulls | 21 | 2 | 1 | 19 | 19 | -227 | [...] ### United Kingdom\\\\n\\\\n### United States [English]\\\\n\\\\n### United States [Español]\\\\n\\\\n### Việt Nam\\\\n\\\\n# PKL 11: Team standings and points table of the Pro Kabaddi League 2024 season\\\\n\\\\nSaino Zachariah\\\\n\\\\nPKL 11: Team standings and points table of the Pro Kabaddi League 2024 season image\\\\n\\\\nThe 2024 edition and the 11th season of the Pro Kabaddi League (PKL) is all set to be begin on October 18, 2024, Friday when the Telugu Titans face off against Bengaluru Bulls in Pune.\\', \\'score\\': 0.9170729}, {\\'title\\': \\'Pro Kabaddi 2024 Points Table: Updated standings on Day ... - Sportskeeda\\', \\'url\\': \\'https://www.sportskeeda.com/kabaddi/news-pro-kabaddi-2024-points-table-updated-standings-day-37-pat-vs-up-pkl-2024-match\\', \\'content\\': \\'Haryana Steelers are atop the Pro Kabaddi 2024 standings with 51 points from 13 matches, including 10 wins and three losses. In the 11th edition of the Pro Kabaddi League, the Steelers have a\\', \\'score\\': 0.8732259}, {\\'title\\': \\'PKL Final 2024, Haryana Steelers vs Patna Pirates Highlights\\', \\'url\\': \\'https://sportstar.thehindu.com/kabaddi/pro-kabaddi-league/pkl-final-2024-haryana-steelers-vs-patna-pirates-live-score-streaming-starting-7-stats-result-highlights-top-moments-har-v-pat/article69039953.ece\\', \\'content\\': \\'Haryana Steelers emerged victorious in the Pro Kabaddi League Season 11 final, defeating Patna Pirates with a commanding 32-23 scoreline here.\\', \\'score\\': 0.8660535}, {\\'title\\': \\'Pro Kabaddi Legaue: Full list of winners with captains | PKL 2024 ...\\', \\'url\\': \\'https://www.business-standard.com/sports/pro-kabaddi-league/pro-kabaddi-legaue-full-list-of-winners-with-captains-pkl-2024-champion-124122800316_1.html\\', \\'content\\': \\'The Pro Kabaddi League 2024 finally concluded as Haryana Steelers lifted their record-making maiden PKL title at Shree Shiv Chhatrapati\\', \\'score\\': 0.8342047}]'"
      ]
     },
     "execution_count": 23,
     "metadata": {},
     "output_type": "execute_result"
    }
   ],
   "source": [
    "tool_mapping[result.tool_calls[0][\"name\"]].invoke(result.tool_calls[0][\"args\"])"
   ]
  },
  {
   "cell_type": "code",
   "execution_count": 39,
   "id": "91514f14",
   "metadata": {},
   "outputs": [],
   "source": [
    "from typing import TypedDict, Sequence, Annotated\n",
    "import operator\n",
    "from langchain_core.messages import BaseMessage"
   ]
  },
  {
   "cell_type": "code",
   "execution_count": 40,
   "id": "f92bf732",
   "metadata": {},
   "outputs": [],
   "source": [
    "class AgentState(TypedDict):\n",
    "    \"\"\"Agent state\"\"\"\n",
    "    messages: Annotated[Sequence[BaseMessage], operator.add]"
   ]
  },
  {
   "cell_type": "code",
   "execution_count": 41,
   "id": "fd2f9807",
   "metadata": {},
   "outputs": [],
   "source": [
    "def invoke_model(state:AgentState):\n",
    "    messages=state[\"messages\"]\n",
    "    question=messages[-1]\n",
    "    response=llm_with_tools.invoke(question)\n",
    "    return {\"messages\":[response]}"
   ]
  },
  {
   "cell_type": "code",
   "execution_count": 42,
   "id": "3255a3a6",
   "metadata": {},
   "outputs": [],
   "source": [
    "def router(state:AgentState):\n",
    "    tool_calls=state[\"messages\"][-1].tool_calls\n",
    "    if len(tool_calls)>0:\n",
    "        return \"tool\"\n",
    "    else:\n",
    "        return \"end\""
   ]
  },
  {
   "cell_type": "code",
   "execution_count": 43,
   "id": "0b43da30",
   "metadata": {},
   "outputs": [],
   "source": [
    "def invoke_tool(state:AgentState):\n",
    "    tool_details=state[\"messages\"][-1].tool_calls\n",
    "    \n",
    "    if tool_details is None:\n",
    "        return Exception(\"No tool calls found in the last message.\")\n",
    "    \n",
    "    print(f\"Seleted tool: {tool_details[0]['name']}\")\n",
    "    \n",
    "    if tool_details[0][\"name\"]==\"search\":\n",
    "        response=input(prompt=f\"[yes/no] do you want to continue with this expensive web search\")\n",
    "        if response.lower()==\"no\":\n",
    "            print(\"web search discarded by the user. exiting gracefully\")\n",
    "            raise Exception(\"Web search discarded by the user.\")\n",
    "            \n",
    "    \n",
    "    response=tool_mapping[tool_details[0][\"name\"]].invoke(tool_details[0][\"args\"])\n",
    "    return {\"messages\":[response]}"
   ]
  },
  {
   "cell_type": "code",
   "execution_count": 44,
   "id": "6afdae90",
   "metadata": {},
   "outputs": [
    {
     "data": {
      "text/plain": [
       "<langgraph.graph.state.StateGraph at 0x1f1d3853bd0>"
      ]
     },
     "execution_count": 44,
     "metadata": {},
     "output_type": "execute_result"
    }
   ],
   "source": [
    "\n",
    "from langgraph.graph import StateGraph, START,END\n",
    "\n",
    "\n",
    "graph=StateGraph(AgentState)\n",
    "\n",
    "graph.add_node(\"ai_assistant\", invoke_model)\n",
    "graph.add_node(\"tool\", invoke_tool)\n",
    "\n",
    "\n",
    "graph.add_conditional_edges(\"ai_assistant\",\n",
    "                            router,\n",
    "                            {\n",
    "                                \"tool\":\"tool\",\n",
    "                                \"end\":END\n",
    "                            }\n",
    "                            )\n",
    "\n",
    "\n",
    "graph.add_edge(\"tool\", END)"
   ]
  },
  {
   "cell_type": "code",
   "execution_count": 45,
   "id": "9838db8b",
   "metadata": {},
   "outputs": [
    {
     "data": {
      "text/plain": [
       "<langgraph.graph.state.StateGraph at 0x1f1d3853bd0>"
      ]
     },
     "execution_count": 45,
     "metadata": {},
     "output_type": "execute_result"
    }
   ],
   "source": [
    "\n",
    "graph.set_entry_point(\"ai_assistant\")"
   ]
  },
  {
   "cell_type": "code",
   "execution_count": 46,
   "id": "a73cc21f",
   "metadata": {},
   "outputs": [],
   "source": [
    "app=graph.compile()"
   ]
  },
  {
   "cell_type": "code",
   "execution_count": 47,
   "id": "7951cceb",
   "metadata": {},
   "outputs": [
    {
     "data": {
      "image/png": "[encoded data removed]",
      "text/plain": [
       "<IPython.core.display.Image object>"
      ]
     },
     "metadata": {},
     "output_type": "display_data"
    }
   ],
   "source": [
    "from IPython.display import Image, display\n",
    "display(Image(app.get_graph().draw_mermaid_png()))"
   ]
  },
  {
   "cell_type": "code",
   "execution_count": 48,
   "id": "1a62e228",
   "metadata": {},
   "outputs": [
    {
     "name": "stdout",
     "output_type": "stream",
     "text": [
      "Seleted tool: search\n",
      "web search discarded by the user. exiting gracefully\n"
     ]
    },
    {
     "ename": "Exception",
     "evalue": "Web search discarded by the user.",
     "output_type": "error",
     "traceback": [
      "\u001b[31m---------------------------------------------------------------------------\u001b[39m",
      "\u001b[31mException\u001b[39m                                 Traceback (most recent call last)",
      "\u001b[36mCell\u001b[39m\u001b[36m \u001b[39m\u001b[32mIn[48]\u001b[39m\u001b[32m, line 1\u001b[39m\n\u001b[32m----> \u001b[39m\u001b[32m1\u001b[39m \u001b[43mapp\u001b[49m\u001b[43m.\u001b[49m\u001b[43minvoke\u001b[49m\u001b[43m(\u001b[49m\u001b[43m{\u001b[49m\u001b[33;43m\"\u001b[39;49m\u001b[33;43mmessages\u001b[39;49m\u001b[33;43m\"\u001b[39;49m\u001b[43m:\u001b[49m\u001b[43m[\u001b[49m\u001b[33;43m\"\u001b[39;49m\u001b[33;43mWhat is the current gdp of the india?\u001b[39;49m\u001b[33;43m\"\u001b[39;49m\u001b[43m]\u001b[49m\u001b[43m}\u001b[49m\u001b[43m)\u001b[49m\n",
      "\u001b[36mFile \u001b[39m\u001b[32mc:\\miniconda\\envs\\agenticvenv\\Lib\\site-packages\\langgraph\\pregel\\__init__.py:2719\u001b[39m, in \u001b[36mPregel.invoke\u001b[39m\u001b[34m(self, input, config, stream_mode, output_keys, interrupt_before, interrupt_after, checkpoint_during, debug, **kwargs)\u001b[39m\n\u001b[32m   2716\u001b[39m chunks: \u001b[38;5;28mlist\u001b[39m[Union[\u001b[38;5;28mdict\u001b[39m[\u001b[38;5;28mstr\u001b[39m, Any], Any]] = []\n\u001b[32m   2717\u001b[39m interrupts: \u001b[38;5;28mlist\u001b[39m[Interrupt] = []\n\u001b[32m-> \u001b[39m\u001b[32m2719\u001b[39m \u001b[43m\u001b[49m\u001b[38;5;28;43;01mfor\u001b[39;49;00m\u001b[43m \u001b[49m\u001b[43mchunk\u001b[49m\u001b[43m \u001b[49m\u001b[38;5;129;43;01min\u001b[39;49;00m\u001b[43m \u001b[49m\u001b[38;5;28;43mself\u001b[39;49m\u001b[43m.\u001b[49m\u001b[43mstream\u001b[49m\u001b[43m(\u001b[49m\n\u001b[32m   2720\u001b[39m \u001b[43m    \u001b[49m\u001b[38;5;28;43minput\u001b[39;49m\u001b[43m,\u001b[49m\n\u001b[32m   2721\u001b[39m \u001b[43m    \u001b[49m\u001b[43mconfig\u001b[49m\u001b[43m,\u001b[49m\n\u001b[32m   2722\u001b[39m \u001b[43m    \u001b[49m\u001b[43mstream_mode\u001b[49m\u001b[43m=\u001b[49m\u001b[43mstream_mode\u001b[49m\u001b[43m,\u001b[49m\n\u001b[32m   2723\u001b[39m \u001b[43m    \u001b[49m\u001b[43moutput_keys\u001b[49m\u001b[43m=\u001b[49m\u001b[43moutput_keys\u001b[49m\u001b[43m,\u001b[49m\n\u001b[32m   2724\u001b[39m \u001b[43m    \u001b[49m\u001b[43minterrupt_before\u001b[49m\u001b[43m=\u001b[49m\u001b[43minterrupt_before\u001b[49m\u001b[43m,\u001b[49m\n\u001b[32m   2725\u001b[39m \u001b[43m    \u001b[49m\u001b[43minterrupt_after\u001b[49m\u001b[43m=\u001b[49m\u001b[43minterrupt_after\u001b[49m\u001b[43m,\u001b[49m\n\u001b[32m   2726\u001b[39m \u001b[43m    \u001b[49m\u001b[43mcheckpoint_during\u001b[49m\u001b[43m=\u001b[49m\u001b[43mcheckpoint_during\u001b[49m\u001b[43m,\u001b[49m\n\u001b[32m   2727\u001b[39m \u001b[43m    \u001b[49m\u001b[43mdebug\u001b[49m\u001b[43m=\u001b[49m\u001b[43mdebug\u001b[49m\u001b[43m,\u001b[49m\n\u001b[32m   2728\u001b[39m \u001b[43m    \u001b[49m\u001b[43m*\u001b[49m\u001b[43m*\u001b[49m\u001b[43mkwargs\u001b[49m\u001b[43m,\u001b[49m\n\u001b[32m   2729\u001b[39m \u001b[43m\u001b[49m\u001b[43m)\u001b[49m\u001b[43m:\u001b[49m\n\u001b[32m   2730\u001b[39m \u001b[43m    \u001b[49m\u001b[38;5;28;43;01mif\u001b[39;49;00m\u001b[43m \u001b[49m\u001b[43mstream_mode\u001b[49m\u001b[43m \u001b[49m\u001b[43m==\u001b[49m\u001b[43m \u001b[49m\u001b[33;43m\"\u001b[39;49m\u001b[33;43mvalues\u001b[39;49m\u001b[33;43m\"\u001b[39;49m\u001b[43m:\u001b[49m\n\u001b[32m   2731\u001b[39m \u001b[43m        \u001b[49m\u001b[38;5;28;43;01mif\u001b[39;49;00m\u001b[43m \u001b[49m\u001b[43m(\u001b[49m\n\u001b[32m   2732\u001b[39m \u001b[43m            \u001b[49m\u001b[38;5;28;43misinstance\u001b[39;49m\u001b[43m(\u001b[49m\u001b[43mchunk\u001b[49m\u001b[43m,\u001b[49m\u001b[43m \u001b[49m\u001b[38;5;28;43mdict\u001b[39;49m\u001b[43m)\u001b[49m\n\u001b[32m   2733\u001b[39m \u001b[43m            \u001b[49m\u001b[38;5;129;43;01mand\u001b[39;49;00m\u001b[43m \u001b[49m\u001b[43m(\u001b[49m\u001b[43mints\u001b[49m\u001b[43m \u001b[49m\u001b[43m:=\u001b[49m\u001b[43m \u001b[49m\u001b[43mchunk\u001b[49m\u001b[43m.\u001b[49m\u001b[43mget\u001b[49m\u001b[43m(\u001b[49m\u001b[43mINTERRUPT\u001b[49m\u001b[43m)\u001b[49m\u001b[43m)\u001b[49m\u001b[43m \u001b[49m\u001b[38;5;129;43;01mis\u001b[39;49;00m\u001b[43m \u001b[49m\u001b[38;5;129;43;01mnot\u001b[39;49;00m\u001b[43m \u001b[49m\u001b[38;5;28;43;01mNone\u001b[39;49;00m\n\u001b[32m   2734\u001b[39m \u001b[43m        \u001b[49m\u001b[43m)\u001b[49m\u001b[43m:\u001b[49m\n",
      "\u001b[36mFile \u001b[39m\u001b[32mc:\\miniconda\\envs\\agenticvenv\\Lib\\site-packages\\langgraph\\pregel\\__init__.py:2436\u001b[39m, in \u001b[36mPregel.stream\u001b[39m\u001b[34m(self, input, config, stream_mode, output_keys, interrupt_before, interrupt_after, checkpoint_during, debug, subgraphs)\u001b[39m\n\u001b[32m   2434\u001b[39m         \u001b[38;5;28;01mfor\u001b[39;00m task \u001b[38;5;129;01min\u001b[39;00m loop.match_cached_writes():\n\u001b[32m   2435\u001b[39m             loop.output_writes(task.id, task.writes, cached=\u001b[38;5;28;01mTrue\u001b[39;00m)\n\u001b[32m-> \u001b[39m\u001b[32m2436\u001b[39m \u001b[43m        \u001b[49m\u001b[38;5;28;43;01mfor\u001b[39;49;00m\u001b[43m \u001b[49m\u001b[43m_\u001b[49m\u001b[43m \u001b[49m\u001b[38;5;129;43;01min\u001b[39;49;00m\u001b[43m \u001b[49m\u001b[43mrunner\u001b[49m\u001b[43m.\u001b[49m\u001b[43mtick\u001b[49m\u001b[43m(\u001b[49m\n\u001b[32m   2437\u001b[39m \u001b[43m            \u001b[49m\u001b[43m[\u001b[49m\u001b[43mt\u001b[49m\u001b[43m \u001b[49m\u001b[38;5;28;43;01mfor\u001b[39;49;00m\u001b[43m \u001b[49m\u001b[43mt\u001b[49m\u001b[43m \u001b[49m\u001b[38;5;129;43;01min\u001b[39;49;00m\u001b[43m \u001b[49m\u001b[43mloop\u001b[49m\u001b[43m.\u001b[49m\u001b[43mtasks\u001b[49m\u001b[43m.\u001b[49m\u001b[43mvalues\u001b[49m\u001b[43m(\u001b[49m\u001b[43m)\u001b[49m\u001b[43m \u001b[49m\u001b[38;5;28;43;01mif\u001b[39;49;00m\u001b[43m \u001b[49m\u001b[38;5;129;43;01mnot\u001b[39;49;00m\u001b[43m \u001b[49m\u001b[43mt\u001b[49m\u001b[43m.\u001b[49m\u001b[43mwrites\u001b[49m\u001b[43m]\u001b[49m\u001b[43m,\u001b[49m\n\u001b[32m   2438\u001b[39m \u001b[43m            \u001b[49m\u001b[43mtimeout\u001b[49m\u001b[43m=\u001b[49m\u001b[38;5;28;43mself\u001b[39;49m\u001b[43m.\u001b[49m\u001b[43mstep_timeout\u001b[49m\u001b[43m,\u001b[49m\n\u001b[32m   2439\u001b[39m \u001b[43m            \u001b[49m\u001b[43mget_waiter\u001b[49m\u001b[43m=\u001b[49m\u001b[43mget_waiter\u001b[49m\u001b[43m,\u001b[49m\n\u001b[32m   2440\u001b[39m \u001b[43m            \u001b[49m\u001b[43mschedule_task\u001b[49m\u001b[43m=\u001b[49m\u001b[43mloop\u001b[49m\u001b[43m.\u001b[49m\u001b[43maccept_push\u001b[49m\u001b[43m,\u001b[49m\n\u001b[32m   2441\u001b[39m \u001b[43m        \u001b[49m\u001b[43m)\u001b[49m\u001b[43m:\u001b[49m\n\u001b[32m   2442\u001b[39m \u001b[43m            \u001b[49m\u001b[38;5;66;43;03m# emit output\u001b[39;49;00m\n\u001b[32m   2443\u001b[39m \u001b[43m            \u001b[49m\u001b[38;5;28;43;01myield from\u001b[39;49;00m\u001b[43m \u001b[49m\u001b[43moutput\u001b[49m\u001b[43m(\u001b[49m\u001b[43m)\u001b[49m\n\u001b[32m   2444\u001b[39m \u001b[38;5;66;03m# emit output\u001b[39;00m\n",
      "\u001b[36mFile \u001b[39m\u001b[32mc:\\miniconda\\envs\\agenticvenv\\Lib\\site-packages\\langgraph\\pregel\\runner.py:161\u001b[39m, in \u001b[36mPregelRunner.tick\u001b[39m\u001b[34m(self, tasks, reraise, timeout, retry_policy, get_waiter, schedule_task)\u001b[39m\n\u001b[32m    159\u001b[39m t = tasks[\u001b[32m0\u001b[39m]\n\u001b[32m    160\u001b[39m \u001b[38;5;28;01mtry\u001b[39;00m:\n\u001b[32m--> \u001b[39m\u001b[32m161\u001b[39m     \u001b[43mrun_with_retry\u001b[49m\u001b[43m(\u001b[49m\n\u001b[32m    162\u001b[39m \u001b[43m        \u001b[49m\u001b[43mt\u001b[49m\u001b[43m,\u001b[49m\n\u001b[32m    163\u001b[39m \u001b[43m        \u001b[49m\u001b[43mretry_policy\u001b[49m\u001b[43m,\u001b[49m\n\u001b[32m    164\u001b[39m \u001b[43m        \u001b[49m\u001b[43mconfigurable\u001b[49m\u001b[43m=\u001b[49m\u001b[43m{\u001b[49m\n\u001b[32m    165\u001b[39m \u001b[43m            \u001b[49m\u001b[43mCONFIG_KEY_CALL\u001b[49m\u001b[43m:\u001b[49m\u001b[43m \u001b[49m\u001b[43mpartial\u001b[49m\u001b[43m(\u001b[49m\n\u001b[32m    166\u001b[39m \u001b[43m                \u001b[49m\u001b[43m_call\u001b[49m\u001b[43m,\u001b[49m\n\u001b[32m    167\u001b[39m \u001b[43m                \u001b[49m\u001b[43mweakref\u001b[49m\u001b[43m.\u001b[49m\u001b[43mref\u001b[49m\u001b[43m(\u001b[49m\u001b[43mt\u001b[49m\u001b[43m)\u001b[49m\u001b[43m,\u001b[49m\n\u001b[32m    168\u001b[39m \u001b[43m                \u001b[49m\u001b[43mretry\u001b[49m\u001b[43m=\u001b[49m\u001b[43mretry_policy\u001b[49m\u001b[43m,\u001b[49m\n\u001b[32m    169\u001b[39m \u001b[43m                \u001b[49m\u001b[43mfutures\u001b[49m\u001b[43m=\u001b[49m\u001b[43mweakref\u001b[49m\u001b[43m.\u001b[49m\u001b[43mref\u001b[49m\u001b[43m(\u001b[49m\u001b[43mfutures\u001b[49m\u001b[43m)\u001b[49m\u001b[43m,\u001b[49m\n\u001b[32m    170\u001b[39m \u001b[43m                \u001b[49m\u001b[43mschedule_task\u001b[49m\u001b[43m=\u001b[49m\u001b[43mschedule_task\u001b[49m\u001b[43m,\u001b[49m\n\u001b[32m    171\u001b[39m \u001b[43m                \u001b[49m\u001b[43msubmit\u001b[49m\u001b[43m=\u001b[49m\u001b[38;5;28;43mself\u001b[39;49m\u001b[43m.\u001b[49m\u001b[43msubmit\u001b[49m\u001b[43m,\u001b[49m\n\u001b[32m    172\u001b[39m \u001b[43m            \u001b[49m\u001b[43m)\u001b[49m\u001b[43m,\u001b[49m\n\u001b[32m    173\u001b[39m \u001b[43m        \u001b[49m\u001b[43m}\u001b[49m\u001b[43m,\u001b[49m\n\u001b[32m    174\u001b[39m \u001b[43m    \u001b[49m\u001b[43m)\u001b[49m\n\u001b[32m    175\u001b[39m     \u001b[38;5;28mself\u001b[39m.commit(t, \u001b[38;5;28;01mNone\u001b[39;00m)\n\u001b[32m    176\u001b[39m \u001b[38;5;28;01mexcept\u001b[39;00m \u001b[38;5;167;01mException\u001b[39;00m \u001b[38;5;28;01mas\u001b[39;00m exc:\n",
      "\u001b[36mFile \u001b[39m\u001b[32mc:\\miniconda\\envs\\agenticvenv\\Lib\\site-packages\\langgraph\\pregel\\retry.py:40\u001b[39m, in \u001b[36mrun_with_retry\u001b[39m\u001b[34m(task, retry_policy, configurable)\u001b[39m\n\u001b[32m     38\u001b[39m     task.writes.clear()\n\u001b[32m     39\u001b[39m     \u001b[38;5;66;03m# run the task\u001b[39;00m\n\u001b[32m---> \u001b[39m\u001b[32m40\u001b[39m     \u001b[38;5;28;01mreturn\u001b[39;00m \u001b[43mtask\u001b[49m\u001b[43m.\u001b[49m\u001b[43mproc\u001b[49m\u001b[43m.\u001b[49m\u001b[43minvoke\u001b[49m\u001b[43m(\u001b[49m\u001b[43mtask\u001b[49m\u001b[43m.\u001b[49m\u001b[43minput\u001b[49m\u001b[43m,\u001b[49m\u001b[43m \u001b[49m\u001b[43mconfig\u001b[49m\u001b[43m)\u001b[49m\n\u001b[32m     41\u001b[39m \u001b[38;5;28;01mexcept\u001b[39;00m ParentCommand \u001b[38;5;28;01mas\u001b[39;00m exc:\n\u001b[32m     42\u001b[39m     ns: \u001b[38;5;28mstr\u001b[39m = config[CONF][CONFIG_KEY_CHECKPOINT_NS]\n",
      "\u001b[36mFile \u001b[39m\u001b[32mc:\\miniconda\\envs\\agenticvenv\\Lib\\site-packages\\langgraph\\utils\\runnable.py:623\u001b[39m, in \u001b[36mRunnableSeq.invoke\u001b[39m\u001b[34m(self, input, config, **kwargs)\u001b[39m\n\u001b[32m    621\u001b[39m     \u001b[38;5;66;03m# run in context\u001b[39;00m\n\u001b[32m    622\u001b[39m     \u001b[38;5;28;01mwith\u001b[39;00m set_config_context(config, run) \u001b[38;5;28;01mas\u001b[39;00m context:\n\u001b[32m--> \u001b[39m\u001b[32m623\u001b[39m         \u001b[38;5;28minput\u001b[39m = \u001b[43mcontext\u001b[49m\u001b[43m.\u001b[49m\u001b[43mrun\u001b[49m\u001b[43m(\u001b[49m\u001b[43mstep\u001b[49m\u001b[43m.\u001b[49m\u001b[43minvoke\u001b[49m\u001b[43m,\u001b[49m\u001b[43m \u001b[49m\u001b[38;5;28;43minput\u001b[39;49m\u001b[43m,\u001b[49m\u001b[43m \u001b[49m\u001b[43mconfig\u001b[49m\u001b[43m,\u001b[49m\u001b[43m \u001b[49m\u001b[43m*\u001b[49m\u001b[43m*\u001b[49m\u001b[43mkwargs\u001b[49m\u001b[43m)\u001b[49m\n\u001b[32m    624\u001b[39m \u001b[38;5;28;01melse\u001b[39;00m:\n\u001b[32m    625\u001b[39m     \u001b[38;5;28minput\u001b[39m = step.invoke(\u001b[38;5;28minput\u001b[39m, config)\n",
      "\u001b[36mFile \u001b[39m\u001b[32mc:\\miniconda\\envs\\agenticvenv\\Lib\\site-packages\\langgraph\\utils\\runnable.py:377\u001b[39m, in \u001b[36mRunnableCallable.invoke\u001b[39m\u001b[34m(self, input, config, **kwargs)\u001b[39m\n\u001b[32m    375\u001b[39m         run_manager.on_chain_end(ret)\n\u001b[32m    376\u001b[39m \u001b[38;5;28;01melse\u001b[39;00m:\n\u001b[32m--> \u001b[39m\u001b[32m377\u001b[39m     ret = \u001b[38;5;28;43mself\u001b[39;49m\u001b[43m.\u001b[49m\u001b[43mfunc\u001b[49m\u001b[43m(\u001b[49m\u001b[43m*\u001b[49m\u001b[43margs\u001b[49m\u001b[43m,\u001b[49m\u001b[43m \u001b[49m\u001b[43m*\u001b[49m\u001b[43m*\u001b[49m\u001b[43mkwargs\u001b[49m\u001b[43m)\u001b[49m\n\u001b[32m    378\u001b[39m \u001b[38;5;28;01mif\u001b[39;00m \u001b[38;5;28mself\u001b[39m.recurse \u001b[38;5;129;01mand\u001b[39;00m \u001b[38;5;28misinstance\u001b[39m(ret, Runnable):\n\u001b[32m    379\u001b[39m     \u001b[38;5;28;01mreturn\u001b[39;00m ret.invoke(\u001b[38;5;28minput\u001b[39m, config)\n",
      "\u001b[36mCell\u001b[39m\u001b[36m \u001b[39m\u001b[32mIn[43]\u001b[39m\u001b[32m, line 13\u001b[39m, in \u001b[36minvoke_tool\u001b[39m\u001b[34m(state)\u001b[39m\n\u001b[32m     11\u001b[39m     \u001b[38;5;28;01mif\u001b[39;00m response.lower()==\u001b[33m\"\u001b[39m\u001b[33mno\u001b[39m\u001b[33m\"\u001b[39m:\n\u001b[32m     12\u001b[39m         \u001b[38;5;28mprint\u001b[39m(\u001b[33m\"\u001b[39m\u001b[33mweb search discarded by the user. exiting gracefully\u001b[39m\u001b[33m\"\u001b[39m)\n\u001b[32m---> \u001b[39m\u001b[32m13\u001b[39m         \u001b[38;5;28;01mraise\u001b[39;00m \u001b[38;5;167;01mException\u001b[39;00m(\u001b[33m\"\u001b[39m\u001b[33mWeb search discarded by the user.\u001b[39m\u001b[33m\"\u001b[39m)\n\u001b[32m     16\u001b[39m response=tool_mapping[tool_details[\u001b[32m0\u001b[39m][\u001b[33m\"\u001b[39m\u001b[33mname\u001b[39m\u001b[33m\"\u001b[39m]].invoke(tool_details[\u001b[32m0\u001b[39m][\u001b[33m\"\u001b[39m\u001b[33margs\u001b[39m\u001b[33m\"\u001b[39m])\n\u001b[32m     17\u001b[39m \u001b[38;5;28;01mreturn\u001b[39;00m {\u001b[33m\"\u001b[39m\u001b[33mmessages\u001b[39m\u001b[33m\"\u001b[39m:[response]}\n",
      "\u001b[31mException\u001b[39m: Web search discarded by the user.",
      "During task with name 'tool' and id '40ae8139-3188-1cc6-caf0-0e9f25b9e384'"
     ]
    }
   ],
   "source": [
    "app.invoke({\"messages\":[\"What is the current gdp of the india?\"]})"
   ]
  },
  {
   "cell_type": "code",
   "execution_count": null,
   "id": "a5934d6c",
   "metadata": {},
   "outputs": [],
   "source": []
  }
 ],
 "metadata": {
  "kernelspec": {
   "display_name": "agenticvenv",
   "language": "python",
   "name": "python3"
  },
  "language_info": {
   "codemirror_mode": {
    "name": "ipython",
    "version": 3
   },
   "file_extension": ".py",
   "mimetype": "text/x-python",
   "name": "python",
   "nbconvert_exporter": "python",
   "pygments_lexer": "ipython3",
   "version": "3.11.11"
  }
 },
 "nbformat": 4,
 "nbformat_minor": 5
}
