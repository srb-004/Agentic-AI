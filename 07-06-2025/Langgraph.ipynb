{
 "cells": [
  {
   "cell_type": "code",
   "execution_count": 13,
   "id": "447759a0",
   "metadata": {},
   "outputs": [],
   "source": [
    "def function1(input1):\n",
    "    return input1 + \"Func1\"\n",
    "\n",
    "def function2(input2):\n",
    "    return input2 + \" Func2\"\n",
    "\n",
    "def function3(input3):\n",
    "    return input3 + \" Func3\""
   ]
  },
  {
   "cell_type": "code",
   "execution_count": 14,
   "id": "4cb4c75e",
   "metadata": {},
   "outputs": [
    {
     "data": {
      "text/plain": [
       "'HelloFunc1'"
      ]
     },
     "execution_count": 14,
     "metadata": {},
     "output_type": "execute_result"
    }
   ],
   "source": [
    "function1(\"Hello\")"
   ]
  },
  {
   "cell_type": "code",
   "execution_count": 15,
   "id": "7750bd3a",
   "metadata": {},
   "outputs": [
    {
     "data": {
      "text/plain": [
       "'Hello Func2'"
      ]
     },
     "execution_count": 15,
     "metadata": {},
     "output_type": "execute_result"
    }
   ],
   "source": [
    "function2(\"Hello\")"
   ]
  },
  {
   "cell_type": "markdown",
   "id": "cc06b7a0",
   "metadata": {},
   "source": [
    "#### Orchestration samples"
   ]
  },
  {
   "cell_type": "code",
   "execution_count": 16,
   "id": "33475674",
   "metadata": {},
   "outputs": [],
   "source": [
    "from langgraph.graph import Graph"
   ]
  },
  {
   "cell_type": "code",
   "execution_count": 17,
   "id": "33a60cfb",
   "metadata": {},
   "outputs": [],
   "source": [
    "workflow1 = Graph()"
   ]
  },
  {
   "cell_type": "markdown",
   "id": "47e049e6",
   "metadata": {},
   "source": [
    "Creating Nodes"
   ]
  },
  {
   "cell_type": "code",
   "execution_count": 18,
   "id": "7cb470e0",
   "metadata": {},
   "outputs": [
    {
     "data": {
      "text/plain": [
       "<langgraph.graph.graph.Graph at 0x2d8b5f647d0>"
      ]
     },
     "execution_count": 18,
     "metadata": {},
     "output_type": "execute_result"
    }
   ],
   "source": [
    "workflow1.add_node(\"node1-func1\", function1)\n",
    "workflow1.add_node(\"node1-func2\", function2)\n",
    "workflow1.add_node(\"node1-func3\", function3)"
   ]
  },
  {
   "cell_type": "markdown",
   "id": "6645cf18",
   "metadata": {},
   "source": [
    "Creating Edges"
   ]
  },
  {
   "cell_type": "code",
   "execution_count": 19,
   "id": "8efac141",
   "metadata": {},
   "outputs": [
    {
     "data": {
      "text/plain": [
       "<langgraph.graph.graph.Graph at 0x2d8b5f647d0>"
      ]
     },
     "execution_count": 19,
     "metadata": {},
     "output_type": "execute_result"
    }
   ],
   "source": [
    "workflow1.set_entry_point(\"node1-func1\")\n",
    "workflow1.set_finish_point(\"node1-func3\")"
   ]
  },
  {
   "cell_type": "code",
   "execution_count": 20,
   "id": "ff7be112",
   "metadata": {},
   "outputs": [
    {
     "data": {
      "text/plain": [
       "<langgraph.graph.graph.Graph at 0x2d8b5f647d0>"
      ]
     },
     "execution_count": 20,
     "metadata": {},
     "output_type": "execute_result"
    }
   ],
   "source": [
    "workflow1.add_edge(\"node1-func1\", \"node1-func2\")\n",
    "workflow1.add_edge(\"node1-func2\", \"node1-func3\")"
   ]
  },
  {
   "cell_type": "markdown",
   "id": "817ead3a",
   "metadata": {},
   "source": [
    "Compiling Graph"
   ]
  },
  {
   "cell_type": "code",
   "execution_count": 21,
   "id": "3550e742",
   "metadata": {},
   "outputs": [],
   "source": [
    "app = workflow1.compile()"
   ]
  },
  {
   "cell_type": "code",
   "execution_count": 22,
   "id": "5e3ede6b",
   "metadata": {},
   "outputs": [],
   "source": [
    "from IPython.display import Image, display"
   ]
  },
  {
   "cell_type": "code",
   "execution_count": 23,
   "id": "c962f6be",
   "metadata": {},
   "outputs": [
    {
     "data": {
      "image/png": "[encoded data removed]",
      "text/plain": [
       "<IPython.core.display.Image object>"
      ]
     },
     "metadata": {},
     "output_type": "display_data"
    }
   ],
   "source": [
    "display(Image(app.get_graph().draw_mermaid_png()))"
   ]
  },
  {
   "cell_type": "code",
   "execution_count": null,
   "id": "f8586889",
   "metadata": {},
   "outputs": [],
   "source": [
    "app.invoke(\"Langgraph Demo\")"
   ]
  }
 ],
 "metadata": {
  "kernelspec": {
   "display_name": "agenticvenv",
   "language": "python",
   "name": "python3"
  },
  "language_info": {
   "codemirror_mode": {
    "name": "ipython",
    "version": 3
   },
   "file_extension": ".py",
   "mimetype": "text/x-python",
   "name": "python",
   "nbconvert_exporter": "python",
   "pygments_lexer": "ipython3",
   "version": "3.11.11"
  }
 },
 "nbformat": 4,
 "nbformat_minor": 5
}
