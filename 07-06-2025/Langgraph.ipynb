{
 "cells": [
  {
   "cell_type": "code",
   "execution_count": 39,
   "id": "e29be0a0",
   "metadata": {},
   "outputs": [
    {
     "data": {
      "text/plain": [
       "<function dotenv.main.load_dotenv(dotenv_path: Union[str, ForwardRef('os.PathLike[str]'), NoneType] = None, stream: Optional[IO[str]] = None, verbose: bool = False, override: bool = False, interpolate: bool = True, encoding: Optional[str] = 'utf-8') -> bool>"
      ]
     },
     "execution_count": 39,
     "metadata": {},
     "output_type": "execute_result"
    }
   ],
   "source": [
    "from dotenv import load_dotenv\n",
    "import os\n",
    "\n",
    "load_dotenv"
   ]
  },
  {
   "cell_type": "code",
   "execution_count": 40,
   "id": "99d679d5",
   "metadata": {},
   "outputs": [],
   "source": [
    "GROK_api_key = os.getenv(\"GROK_API_KEY\")"
   ]
  },
  {
   "cell_type": "code",
   "execution_count": 25,
   "id": "447759a0",
   "metadata": {},
   "outputs": [],
   "source": [
    "def function1(input1):\n",
    "    return input1 + \"Func1\"\n",
    "\n",
    "def function2(input2):\n",
    "    return input2 + \" is a orchestration\"\n",
    "\n",
    "def function3(input3):\n",
    "    return input3 + \" tool whihc is great\""
   ]
  },
  {
   "cell_type": "code",
   "execution_count": 26,
   "id": "4cb4c75e",
   "metadata": {},
   "outputs": [
    {
     "data": {
      "text/plain": [
       "'HelloFunc1'"
      ]
     },
     "execution_count": 26,
     "metadata": {},
     "output_type": "execute_result"
    }
   ],
   "source": [
    "function1(\"Hello\")"
   ]
  },
  {
   "cell_type": "code",
   "execution_count": 27,
   "id": "7750bd3a",
   "metadata": {},
   "outputs": [
    {
     "data": {
      "text/plain": [
       "'Hello is a orchestration'"
      ]
     },
     "execution_count": 27,
     "metadata": {},
     "output_type": "execute_result"
    }
   ],
   "source": [
    "function2(\"Hello\")"
   ]
  },
  {
   "cell_type": "markdown",
   "id": "cc06b7a0",
   "metadata": {},
   "source": [
    "#### Orchestration samples"
   ]
  },
  {
   "cell_type": "code",
   "execution_count": 28,
   "id": "33475674",
   "metadata": {},
   "outputs": [],
   "source": [
    "from langgraph.graph import Graph"
   ]
  },
  {
   "cell_type": "code",
   "execution_count": 29,
   "id": "33a60cfb",
   "metadata": {},
   "outputs": [],
   "source": [
    "workflow1 = Graph()"
   ]
  },
  {
   "cell_type": "markdown",
   "id": "47e049e6",
   "metadata": {},
   "source": [
    "Creating Nodes"
   ]
  },
  {
   "cell_type": "code",
   "execution_count": 30,
   "id": "7cb470e0",
   "metadata": {},
   "outputs": [
    {
     "data": {
      "text/plain": [
       "<langgraph.graph.graph.Graph at 0x2d8b747f390>"
      ]
     },
     "execution_count": 30,
     "metadata": {},
     "output_type": "execute_result"
    }
   ],
   "source": [
    "workflow1.add_node(\"node1-func1\", function1)\n",
    "workflow1.add_node(\"node1-func2\", function2)\n",
    "workflow1.add_node(\"node1-func3\", function3)"
   ]
  },
  {
   "cell_type": "markdown",
   "id": "6645cf18",
   "metadata": {},
   "source": [
    "Creating Edges"
   ]
  },
  {
   "cell_type": "code",
   "execution_count": 31,
   "id": "8efac141",
   "metadata": {},
   "outputs": [
    {
     "data": {
      "text/plain": [
       "<langgraph.graph.graph.Graph at 0x2d8b747f390>"
      ]
     },
     "execution_count": 31,
     "metadata": {},
     "output_type": "execute_result"
    }
   ],
   "source": [
    "workflow1.set_entry_point(\"node1-func1\")\n",
    "workflow1.set_finish_point(\"node1-func3\")"
   ]
  },
  {
   "cell_type": "code",
   "execution_count": 32,
   "id": "ff7be112",
   "metadata": {},
   "outputs": [
    {
     "data": {
      "text/plain": [
       "<langgraph.graph.graph.Graph at 0x2d8b747f390>"
      ]
     },
     "execution_count": 32,
     "metadata": {},
     "output_type": "execute_result"
    }
   ],
   "source": [
    "workflow1.add_edge(\"node1-func1\", \"node1-func2\")\n",
    "workflow1.add_edge(\"node1-func2\", \"node1-func3\")"
   ]
  },
  {
   "cell_type": "markdown",
   "id": "817ead3a",
   "metadata": {},
   "source": [
    "Compiling Graph"
   ]
  },
  {
   "cell_type": "code",
   "execution_count": 33,
   "id": "3550e742",
   "metadata": {},
   "outputs": [],
   "source": [
    "app = workflow1.compile()"
   ]
  },
  {
   "cell_type": "code",
   "execution_count": 34,
   "id": "5e3ede6b",
   "metadata": {},
   "outputs": [],
   "source": [
    "from IPython.display import Image, display"
   ]
  },
  {
   "cell_type": "code",
   "execution_count": 35,
   "id": "c962f6be",
   "metadata": {},
   "outputs": [
    {
     "data": {
      "image/png": "[encoded data removed]",
      "text/plain": [
       "<IPython.core.display.Image object>"
      ]
     },
     "metadata": {},
     "output_type": "display_data"
    }
   ],
   "source": [
    "display(Image(app.get_graph().draw_mermaid_png()))"
   ]
  },
  {
   "cell_type": "code",
   "execution_count": 44,
   "id": "f8586889",
   "metadata": {},
   "outputs": [
    {
     "data": {
      "text/plain": [
       "'Langgraph DemoFunc1 is a orchestration tool whihc is great'"
      ]
     },
     "execution_count": 44,
     "metadata": {},
     "output_type": "execute_result"
    }
   ],
   "source": [
    "app.invoke(\"Langgraph Demo\")"
   ]
  },
  {
   "cell_type": "code",
   "execution_count": 45,
   "id": "b00e5289",
   "metadata": {},
   "outputs": [
    {
     "name": "stdout",
     "output_type": "stream",
     "text": [
      "The key is node1-func1 and the value is LangGraph frameworkFunc1.\n",
      "\n",
      "The key is node1-func2 and the value is LangGraph frameworkFunc1 is a orchestration.\n",
      "\n",
      "The key is node1-func3 and the value is LangGraph frameworkFunc1 is a orchestration tool whihc is great.\n",
      "\n"
     ]
    }
   ],
   "source": [
    "#streaming\n",
    "\n",
    "for output in app.stream(\"LangGraph framework\"):\n",
    "    for key, value in output.items():\n",
    "        print(f\"The key is {key} and the value is {value}.\\n\")"
   ]
  },
  {
   "cell_type": "markdown",
   "id": "f2bb0c75",
   "metadata": {},
   "source": [
    "Example 2"
   ]
  },
  {
   "cell_type": "code",
   "execution_count": 67,
   "id": "baaf2e69",
   "metadata": {},
   "outputs": [],
   "source": [
    "from langchain_groq import ChatGroq"
   ]
  },
  {
   "cell_type": "code",
   "execution_count": 68,
   "id": "c662f63d",
   "metadata": {},
   "outputs": [],
   "source": [
    "def llm(input):\n",
    "    model = ChatGroq(temperature=0, model=\"gemma2-9b-it\", groq_api_key=GROK_api_key)\n",
    "    response = model.invoke(input).content\n",
    "    \n",
    "    return response\n",
    "    "
   ]
  },
  {
   "cell_type": "code",
   "execution_count": 77,
   "id": "634ccdf2",
   "metadata": {},
   "outputs": [],
   "source": [
    "def token_counter(response):\n",
    "    tokens =response.split()\n",
    "    token_count = len(tokens)\n",
    "    \n",
    "    return f\"The token count for the LLM output is the follwing : {token_count}\""
   ]
  },
  {
   "cell_type": "code",
   "execution_count": 78,
   "id": "84903961",
   "metadata": {},
   "outputs": [],
   "source": [
    "workflow2 = Graph()"
   ]
  },
  {
   "cell_type": "code",
   "execution_count": 79,
   "id": "4a3a893c",
   "metadata": {},
   "outputs": [
    {
     "data": {
      "text/plain": [
       "<langgraph.graph.graph.Graph at 0x2d8b8e16290>"
      ]
     },
     "execution_count": 79,
     "metadata": {},
     "output_type": "execute_result"
    }
   ],
   "source": [
    "workflow2.add_node(\"node1-llm-response\", llm)\n",
    "workflow2.add_node(\"node2-token-counter\", token_counter)"
   ]
  },
  {
   "cell_type": "code",
   "execution_count": 80,
   "id": "9c1b5e79",
   "metadata": {},
   "outputs": [
    {
     "data": {
      "text/plain": [
       "<langgraph.graph.graph.Graph at 0x2d8b8e16290>"
      ]
     },
     "execution_count": 80,
     "metadata": {},
     "output_type": "execute_result"
    }
   ],
   "source": [
    "workflow2.add_edge(\"node1-llm-response\", \"node2-token-counter\")"
   ]
  },
  {
   "cell_type": "code",
   "execution_count": 81,
   "id": "eba9fd73",
   "metadata": {},
   "outputs": [
    {
     "data": {
      "text/plain": [
       "<langgraph.graph.graph.Graph at 0x2d8b8e16290>"
      ]
     },
     "execution_count": 81,
     "metadata": {},
     "output_type": "execute_result"
    }
   ],
   "source": [
    "workflow2.set_entry_point(\"node1-llm-response\")\n",
    "workflow2.set_finish_point(\"node2-token-counter\")"
   ]
  },
  {
   "cell_type": "code",
   "execution_count": 82,
   "id": "b0699d91",
   "metadata": {},
   "outputs": [],
   "source": [
    "reponse_app = workflow2.compile()"
   ]
  },
  {
   "cell_type": "code",
   "execution_count": 83,
   "id": "3146ad05",
   "metadata": {},
   "outputs": [
    {
     "data": {
      "image/png": "[encoded data removed]",
      "text/plain": [
       "<IPython.core.display.Image object>"
      ]
     },
     "metadata": {},
     "output_type": "display_data"
    }
   ],
   "source": [
    "display(Image(reponse_app.get_graph().draw_mermaid_png()))"
   ]
  },
  {
   "cell_type": "code",
   "execution_count": 84,
   "id": "1de9e473",
   "metadata": {},
   "outputs": [
    {
     "data": {
      "text/plain": [
       "'The token count for the LLM output is the follwing : 211'"
      ]
     },
     "execution_count": 84,
     "metadata": {},
     "output_type": "execute_result"
    }
   ],
   "source": [
    "reponse_app.invoke(\"What is the meaning of life?\")"
   ]
  },
  {
   "cell_type": "code",
   "execution_count": 86,
   "id": "52af873b",
   "metadata": {},
   "outputs": [
    {
     "name": "stdout",
     "output_type": "stream",
     "text": [
      "The key is node1-llm-response and the value is As an AI, I don't have personal beliefs or experiences to draw on, so I can't tell you the meaning of life. That's a deeply personal question that each individual must answer for themselves.\n",
      "\n",
      "However, I can offer some perspectives:\n",
      "\n",
      "* **Philosophical perspectives:**\n",
      "\n",
      "Many philosophers have pondered this question for centuries. Some believe the meaning of life is to find happiness, others believe it's to make a difference in the world, and others believe it's to seek knowledge and understanding.\n",
      "\n",
      "* **Religious perspectives:**\n",
      "\n",
      "Many religions offer answers to the meaning of life, often involving a higher power, an afterlife, and a purpose for our existence.\n",
      "\n",
      "* **Personal perspectives:**\n",
      "\n",
      "Ultimately, the meaning of life is what you make it. It's up to you to decide what is important to you and what gives your life purpose.\n",
      "\n",
      "Here are some questions to consider as you explore this question for yourself:\n",
      "\n",
      "* What brings you joy and fulfillment?\n",
      "* What are your values and beliefs?\n",
      "* What kind of impact do you want to have on the world?\n",
      "* What legacy do you want to leave behind?\n",
      "\n",
      "The journey of discovering your own meaning of life can be a lifelong adventure. Be open to new experiences, reflect on your values, and connect with others.\n",
      ".\n",
      "\n",
      "The key is node2-token-counter and the value is The token count for the LLM output is the follwing : 211.\n",
      "\n"
     ]
    }
   ],
   "source": [
    "\n",
    "for output in reponse_app.stream(\"What is the meaning of life?\"):\n",
    "    for key, value in output.items():\n",
    "        print(f\"The key is {key} and the value is {value}.\\n\")"
   ]
  },
  {
   "cell_type": "code",
   "execution_count": null,
   "id": "b80ec738",
   "metadata": {},
   "outputs": [],
   "source": []
  }
 ],
 "metadata": {
  "kernelspec": {
   "display_name": "agenticvenv",
   "language": "python",
   "name": "python3"
  },
  "language_info": {
   "codemirror_mode": {
    "name": "ipython",
    "version": 3
   },
   "file_extension": ".py",
   "mimetype": "text/x-python",
   "name": "python",
   "nbconvert_exporter": "python",
   "pygments_lexer": "ipython3",
   "version": "3.11.11"
  }
 },
 "nbformat": 4,
 "nbformat_minor": 5
}
