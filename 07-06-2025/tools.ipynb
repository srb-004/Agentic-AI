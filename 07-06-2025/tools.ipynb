{
 "cells": [
  {
   "cell_type": "code",
   "execution_count": 1,
   "id": "47c6c2f9",
   "metadata": {},
   "outputs": [],
   "source": [
    "from langchain_community.tools import WikipediaQueryRun\n",
    "from langchain_community.utilities import WikipediaAPIWrapper"
   ]
  },
  {
   "cell_type": "code",
   "execution_count": 2,
   "id": "f4ac9582",
   "metadata": {},
   "outputs": [
    {
     "data": {
      "text/plain": [
       "True"
      ]
     },
     "execution_count": 2,
     "metadata": {},
     "output_type": "execute_result"
    }
   ],
   "source": [
    "import os\n",
    "from dotenv import load_dotenv\n",
    "\n",
    "\n",
    "load_dotenv()"
   ]
  },
  {
   "cell_type": "code",
   "execution_count": 3,
   "id": "dfa84e85",
   "metadata": {},
   "outputs": [],
   "source": [
    "Tavily_api = os.getenv(\"TAVILY_API_KEY\")"
   ]
  },
  {
   "cell_type": "code",
   "execution_count": 4,
   "id": "224c777c",
   "metadata": {},
   "outputs": [],
   "source": [
    "api_wrapper = WikipediaAPIWrapper(top_k_results=5, doc_content_chars_max=1000)"
   ]
  },
  {
   "cell_type": "code",
   "execution_count": 5,
   "id": "791c5e01",
   "metadata": {},
   "outputs": [],
   "source": [
    "wiki_tool = WikipediaQueryRun(api_wrapper=api_wrapper)\n"
   ]
  },
  {
   "cell_type": "code",
   "execution_count": 6,
   "id": "9bc28ee2",
   "metadata": {},
   "outputs": [
    {
     "data": {
      "text/plain": [
       "'wikipedia'"
      ]
     },
     "execution_count": 6,
     "metadata": {},
     "output_type": "execute_result"
    }
   ],
   "source": [
    "wiki_tool.name"
   ]
  },
  {
   "cell_type": "code",
   "execution_count": 7,
   "id": "eff47f73",
   "metadata": {},
   "outputs": [
    {
     "data": {
      "text/plain": [
       "'A wrapper around Wikipedia. Useful for when you need to answer general questions about people, places, companies, facts, historical events, or other subjects. Input should be a search query.'"
      ]
     },
     "execution_count": 7,
     "metadata": {},
     "output_type": "execute_result"
    }
   ],
   "source": [
    "wiki_tool.description"
   ]
  },
  {
   "cell_type": "code",
   "execution_count": 8,
   "id": "3c7e96f5",
   "metadata": {},
   "outputs": [
    {
     "data": {
      "text/plain": [
       "{'query': {'description': 'query to look up on wikipedia',\n",
       "  'title': 'Query',\n",
       "  'type': 'string'}}"
      ]
     },
     "execution_count": 8,
     "metadata": {},
     "output_type": "execute_result"
    }
   ],
   "source": [
    "wiki_tool.args"
   ]
  },
  {
   "cell_type": "code",
   "execution_count": 9,
   "id": "52eab1f4",
   "metadata": {},
   "outputs": [
    {
     "name": "stdout",
     "output_type": "stream",
     "text": [
      "Page: Royal Challengers Bengaluru\n",
      "Summary: Royal Challengers Bengaluru, formerly known as Royal Challengers Bangalore, commonly known as RCB, is a professional T20 franchise cricket team based in Bengaluru, Karnataka, that competes in the Indian Premier League. Founded in 2008 by United Spirits, the team's home ground is M. Chinnaswamy Stadium. RCB won their first title in 2025. The team has also finished as the runners-up on three occasions: in 2009, 2011, and 2016. They have also qualified for the playoffs in ten of the eighteen seasons.\n",
      "As of 2025, the team is captained by Rajat Patidar and coached by Andy Flower. The franchise has competed in the Champions League, finishing as runners-up in the 2011 season. As of 2024, RCB was valued at $117 million, making it one of the most valuable franchises. It is also the most popular and followed cricket franchise on Instagram with more than 21 million followers.\n",
      "\n",
      "Page: Indian Premier League\n",
      "Summary: The Indian Premier League (IPL) is a prof\n"
     ]
    }
   ],
   "source": [
    "print(wiki_tool.run({\"query\":\"CSK current season stat\"}))"
   ]
  },
  {
   "cell_type": "markdown",
   "id": "50514582",
   "metadata": {},
   "source": [
    "##### youtube Search"
   ]
  },
  {
   "cell_type": "code",
   "execution_count": 10,
   "id": "82409a63",
   "metadata": {},
   "outputs": [],
   "source": [
    "from langchain_community.tools import YouTubeSearchTool"
   ]
  },
  {
   "cell_type": "code",
   "execution_count": 11,
   "id": "9911e850",
   "metadata": {},
   "outputs": [],
   "source": [
    "youtube_searcher = YouTubeSearchTool()"
   ]
  },
  {
   "cell_type": "code",
   "execution_count": 17,
   "id": "f2dd5cd4",
   "metadata": {},
   "outputs": [
    {
     "data": {
      "text/plain": [
       "\"['https://www.youtube.com/watch?v=JxgmHe2NyeY&pp=ygUKS3Jpc2ggTmFpaw%3D%3D', 'https://www.youtube.com/watch?v=p4pHsuEf4Ms&pp=ygUKS3Jpc2ggTmFpaw%3D%3D']\""
      ]
     },
     "execution_count": 17,
     "metadata": {},
     "output_type": "execute_result"
    }
   ],
   "source": [
    "youtube_searcher.run(\"Krish Naik\")"
   ]
  },
  {
   "cell_type": "code",
   "execution_count": null,
   "id": "b7ce83fb",
   "metadata": {},
   "outputs": [],
   "source": [
    "from langchain_community.tools.tavily_search import TavilySearchResults\n",
    "\n",
    "tool = TavilySearchResults(tavily_api_keys = Tavily_api)"
   ]
  },
  {
   "cell_type": "code",
   "execution_count": null,
   "id": "3fb649ca",
   "metadata": {},
   "outputs": [
    {
     "data": {
      "text/plain": [
       "[{'title': 'Chennai Super Kings - Wikipedia',\n",
       "  'url': 'https://en.wikipedia.org/wiki/Chennai_Super_Kings',\n",
       "  'content': '**Chennai Super Kings**, commonly known as **CSK**, is an Indian professional [T20](/wiki/Twenty20 \"Twenty20\") [cricket](/wiki/Cricket \"Cricket\") franchise based in [Chennai](/wiki/Chennai \"Chennai\"), [Tamil Nadu](/wiki/Tamil_Nadu \"Tamil Nadu\"). The team competes in the [Indian Premier League](/wiki/Indian_Premier_League \"Indian Premier League\") and was one of the eight debut franchises when the league was established in 2008. The team plays its home matches at the [M. A. Chidambaram [...] The Super Kings was suspended for two years from the IPL from July 2015 to 2017 due to the involvement of its owners in the [2013 IPL betting case](/wiki/2013_Indian_Premier_League_spot-fixing_and_betting_case \"2013 Indian Premier League spot-fixing and betting case\"). The franchise re-joined the tournament for the [2018](/wiki/2018_Indian_Premier_League \"2018 Indian Premier League\") season and won the title in its comeback season. In January 2022, CSK became India\\'s first [...] The Super Kings is the [joint-most successful](/wiki/List_of_Indian_Premier_League_seasons_and_results \"List of Indian Premier League seasons and results\") IPL franchise, along with [Mumbai Indians](/wiki/Mumbai_Indians \"Mumbai Indians\"), having won five IPL titles each. It has also appeared in ten finals and qualified for the playoff stages 12 times, the most amongst the IPL teams. The franchise has also won the [Champions League Twenty20](/wiki/Champions_League_Twenty20 \"Champions League',\n",
       "  'score': 0.81204927},\n",
       " {'title': 'Chennai Super Kings Cricket Team | CSK | News & Matches',\n",
       "  'url': 'https://www.espncricinfo.com/team/chennai-super-kings-335974',\n",
       "  'content': 'The most consistent IPL franchise ever, Chennai Super Kings have been led by MS Dhoni to five titles, and have only finished below fourth place thrice.',\n",
       "  'score': 0.68697983},\n",
       " {'title': \"CSK Fan Club's Warning About Bengaluru Resurfaces After ...\",\n",
       "  'url': 'https://www.timesnownews.com/sports/cricket/csk-fan-clubs-warning-about-bengaluru-resurfaces-after-stampede-mars-ipl-2025-celebration-article-151800649',\n",
       "  'content': \"An old warning by a fan club of the [Chennai Super Kings](https://www.timesnownews.com/topic/chennai-super-kings) ([CSK](https://www.timesnownews.com/topic/csk)) has resurfaced after [Royal Challengers Bengaluru](https://www.timesnownews.com/topic/royal-challengers-bengaluru)'s ([RCB](https://www.timesnownews.com/topic/rcb)) IPL 2025 victory celebrations turned into a tragedy following a stampede. The incident left several people dead and many injured.\",\n",
       "  'score': 0.6450534},\n",
       " {'title': 'Chennai Super Kings',\n",
       "  'url': 'https://www.chennaisuperkings.com/',\n",
       "  'content': '![](/assets/images/ci_share.png)\\n![...](https://gallery.chennaisuperkings.com/PROD/GALLERY/CSKGAL_IMG2025-05-06_Image_1746532619168.png)\\n![](/assets/images/camera-icon.png)\\n\\nIPL 2025 | Match 11 | RCB vs CSK\\n\\n![](/assets/images/ci_share.png)\\n![...](https://gallery.chennaisuperkings.com/PROD/GALLERY/CSKGAL_IMG2025-05-06_Image_1746531578832.png)\\n![](/assets/images/camera-icon.png)\\n\\nPractice in Chinnaswamy',\n",
       "  'score': 0.5697814},\n",
       " {'title': 'Chennai Super Kings | CSK 2025 Squad & Overview | IPLT20',\n",
       "  'url': 'https://www.iplt20.com/teams/chennai-super-kings',\n",
       "  'content': '![](https://documents.iplt20.com/ipl/CSK/logos/Logooutline/CSKoutline.png)',\n",
       "  'score': 0.5585443}]"
      ]
     },
     "execution_count": 13,
     "metadata": {},
     "output_type": "execute_result"
    }
   ],
   "source": [
    "tool.invoke(\"CSK IPL\")"
   ]
  },
  {
   "cell_type": "markdown",
   "id": "9027c83e",
   "metadata": {},
   "source": [
    "#### Custom Tools"
   ]
  },
  {
   "cell_type": "code",
   "execution_count": null,
   "id": "ed937b9c",
   "metadata": {},
   "outputs": [],
   "source": [
    "from langchain.agents import tool\n",
    "\n",
    "@tool #decorator\n",
    "def get_word_length(string: str) -> int:\n",
    "    \"\"\"Returns the length of a string\"\"\"\n",
    "    return len(string)"
   ]
  },
  {
   "cell_type": "code",
   "execution_count": 19,
   "id": "b4a0535b",
   "metadata": {},
   "outputs": [
    {
     "data": {
      "text/plain": [
       "10"
      ]
     },
     "execution_count": 19,
     "metadata": {},
     "output_type": "execute_result"
    }
   ],
   "source": [
    "get_word_length.invoke(\"Krish Naik\")"
   ]
  },
  {
   "cell_type": "code",
   "execution_count": 15,
   "id": "1fc98b9d",
   "metadata": {},
   "outputs": [
    {
     "data": {
      "text/plain": [
       "'get_word_length'"
      ]
     },
     "execution_count": 15,
     "metadata": {},
     "output_type": "execute_result"
    }
   ],
   "source": [
    "get_word_length.name"
   ]
  },
  {
   "cell_type": "code",
   "execution_count": 16,
   "id": "694b7d71",
   "metadata": {},
   "outputs": [
    {
     "data": {
      "text/plain": [
       "'Returns the length of a string'"
      ]
     },
     "execution_count": 16,
     "metadata": {},
     "output_type": "execute_result"
    }
   ],
   "source": [
    "get_word_length.description"
   ]
  },
  {
   "cell_type": "code",
   "execution_count": 18,
   "id": "16da9db7",
   "metadata": {},
   "outputs": [
    {
     "data": {
      "text/plain": [
       "{'string': {'title': 'String', 'type': 'string'}}"
      ]
     },
     "execution_count": 18,
     "metadata": {},
     "output_type": "execute_result"
    }
   ],
   "source": [
    "get_word_length.args"
   ]
  },
  {
   "cell_type": "code",
   "execution_count": 20,
   "id": "ed053615",
   "metadata": {},
   "outputs": [],
   "source": [
    "#calling gmail api\n",
    "\n",
    "@tool\n",
    "def call_gmail_api():\n",
    "    \"\"\"Returns the gmail api\"\"\"\n",
    "    return \"gmail api\""
   ]
  },
  {
   "cell_type": "code",
   "execution_count": 22,
   "id": "cb33428a",
   "metadata": {},
   "outputs": [
    {
     "data": {
      "text/plain": [
       "'gmail api'"
      ]
     },
     "execution_count": 22,
     "metadata": {},
     "output_type": "execute_result"
    }
   ],
   "source": [
    "call_gmail_api.invoke(\"Hi\")"
   ]
  },
  {
   "cell_type": "code",
   "execution_count": null,
   "id": "b6ece828",
   "metadata": {},
   "outputs": [],
   "source": []
  }
 ],
 "metadata": {
  "kernelspec": {
   "display_name": "agenticvenv",
   "language": "python",
   "name": "python3"
  },
  "language_info": {
   "codemirror_mode": {
    "name": "ipython",
    "version": 3
   },
   "file_extension": ".py",
   "mimetype": "text/x-python",
   "name": "python",
   "nbconvert_exporter": "python",
   "pygments_lexer": "ipython3",
   "version": "3.11.11"
  }
 },
 "nbformat": 4,
 "nbformat_minor": 5
}
